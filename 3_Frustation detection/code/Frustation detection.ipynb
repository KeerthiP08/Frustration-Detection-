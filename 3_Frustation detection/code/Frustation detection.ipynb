{
 "cells": [
  {
   "attachments": {},
   "cell_type": "markdown",
   "id": "c0ece307",
   "metadata": {},
   "source": [
    "### Importing Necessary Libraries"
   ]
  },
  {
   "cell_type": "code",
   "execution_count": 1,
   "id": "a0fcdc0a",
   "metadata": {},
   "outputs": [],
   "source": [
    "import pandas as pd\n",
    "import nltk\n",
    "from nltk.corpus import stopwords\n",
    "from nltk.tokenize import word_tokenize\n",
    "from nltk.sentiment.vader import SentimentIntensityAnalyzer"
   ]
  },
  {
   "attachments": {},
   "cell_type": "markdown",
   "id": "e3e355d5",
   "metadata": {},
   "source": [
    "### Loading Dataset"
   ]
  },
  {
   "cell_type": "code",
   "execution_count": 2,
   "id": "4cfcd94f",
   "metadata": {},
   "outputs": [],
   "source": [
    "df=pd.read_csv('../data/Reviews.csv')"
   ]
  },
  {
   "cell_type": "code",
   "execution_count": 3,
   "id": "28edd177",
   "metadata": {
    "scrolled": true
   },
   "outputs": [
    {
     "data": {
      "text/html": [
       "<div>\n",
       "<style scoped>\n",
       "    .dataframe tbody tr th:only-of-type {\n",
       "        vertical-align: middle;\n",
       "    }\n",
       "\n",
       "    .dataframe tbody tr th {\n",
       "        vertical-align: top;\n",
       "    }\n",
       "\n",
       "    .dataframe thead th {\n",
       "        text-align: right;\n",
       "    }\n",
       "</style>\n",
       "<table border=\"1\" class=\"dataframe\">\n",
       "  <thead>\n",
       "    <tr style=\"text-align: right;\">\n",
       "      <th></th>\n",
       "      <th>Id</th>\n",
       "      <th>ProductId</th>\n",
       "      <th>UserId</th>\n",
       "      <th>ProfileName</th>\n",
       "      <th>HelpfulnessNumerator</th>\n",
       "      <th>HelpfulnessDenominator</th>\n",
       "      <th>Score</th>\n",
       "      <th>Time</th>\n",
       "      <th>Summary</th>\n",
       "      <th>Text</th>\n",
       "    </tr>\n",
       "  </thead>\n",
       "  <tbody>\n",
       "    <tr>\n",
       "      <th>0</th>\n",
       "      <td>1</td>\n",
       "      <td>B001E4KFG0</td>\n",
       "      <td>A3SGXH7AUHU8GW</td>\n",
       "      <td>delmartian</td>\n",
       "      <td>1</td>\n",
       "      <td>1</td>\n",
       "      <td>5</td>\n",
       "      <td>1303862400</td>\n",
       "      <td>Good Quality Dog Food</td>\n",
       "      <td>I have bought several of the Vitality canned d...</td>\n",
       "    </tr>\n",
       "    <tr>\n",
       "      <th>1</th>\n",
       "      <td>2</td>\n",
       "      <td>B00813GRG4</td>\n",
       "      <td>A1D87F6ZCVE5NK</td>\n",
       "      <td>dll pa</td>\n",
       "      <td>0</td>\n",
       "      <td>0</td>\n",
       "      <td>1</td>\n",
       "      <td>1346976000</td>\n",
       "      <td>Not as Advertised</td>\n",
       "      <td>Product arrived labeled as Jumbo Salted Peanut...</td>\n",
       "    </tr>\n",
       "    <tr>\n",
       "      <th>2</th>\n",
       "      <td>3</td>\n",
       "      <td>B000LQOCH0</td>\n",
       "      <td>ABXLMWJIXXAIN</td>\n",
       "      <td>Natalia Corres \"Natalia Corres\"</td>\n",
       "      <td>1</td>\n",
       "      <td>1</td>\n",
       "      <td>4</td>\n",
       "      <td>1219017600</td>\n",
       "      <td>\"Delight\" says it all</td>\n",
       "      <td>This is a confection that has been around a fe...</td>\n",
       "    </tr>\n",
       "    <tr>\n",
       "      <th>3</th>\n",
       "      <td>4</td>\n",
       "      <td>B000UA0QIQ</td>\n",
       "      <td>A395BORC6FGVXV</td>\n",
       "      <td>Karl</td>\n",
       "      <td>3</td>\n",
       "      <td>3</td>\n",
       "      <td>2</td>\n",
       "      <td>1307923200</td>\n",
       "      <td>Cough Medicine</td>\n",
       "      <td>If you are looking for the secret ingredient i...</td>\n",
       "    </tr>\n",
       "    <tr>\n",
       "      <th>4</th>\n",
       "      <td>5</td>\n",
       "      <td>B006K2ZZ7K</td>\n",
       "      <td>A1UQRSCLF8GW1T</td>\n",
       "      <td>Michael D. Bigham \"M. Wassir\"</td>\n",
       "      <td>0</td>\n",
       "      <td>0</td>\n",
       "      <td>5</td>\n",
       "      <td>1350777600</td>\n",
       "      <td>Great taffy</td>\n",
       "      <td>Great taffy at a great price.  There was a wid...</td>\n",
       "    </tr>\n",
       "  </tbody>\n",
       "</table>\n",
       "</div>"
      ],
      "text/plain": [
       "   Id   ProductId          UserId                      ProfileName  \\\n",
       "0   1  B001E4KFG0  A3SGXH7AUHU8GW                       delmartian   \n",
       "1   2  B00813GRG4  A1D87F6ZCVE5NK                           dll pa   \n",
       "2   3  B000LQOCH0   ABXLMWJIXXAIN  Natalia Corres \"Natalia Corres\"   \n",
       "3   4  B000UA0QIQ  A395BORC6FGVXV                             Karl   \n",
       "4   5  B006K2ZZ7K  A1UQRSCLF8GW1T    Michael D. Bigham \"M. Wassir\"   \n",
       "\n",
       "   HelpfulnessNumerator  HelpfulnessDenominator  Score        Time  \\\n",
       "0                     1                       1      5  1303862400   \n",
       "1                     0                       0      1  1346976000   \n",
       "2                     1                       1      4  1219017600   \n",
       "3                     3                       3      2  1307923200   \n",
       "4                     0                       0      5  1350777600   \n",
       "\n",
       "                 Summary                                               Text  \n",
       "0  Good Quality Dog Food  I have bought several of the Vitality canned d...  \n",
       "1      Not as Advertised  Product arrived labeled as Jumbo Salted Peanut...  \n",
       "2  \"Delight\" says it all  This is a confection that has been around a fe...  \n",
       "3         Cough Medicine  If you are looking for the secret ingredient i...  \n",
       "4            Great taffy  Great taffy at a great price.  There was a wid...  "
      ]
     },
     "execution_count": 3,
     "metadata": {},
     "output_type": "execute_result"
    }
   ],
   "source": [
    "df.head()"
   ]
  },
  {
   "attachments": {},
   "cell_type": "markdown",
   "id": "a8c11dae",
   "metadata": {},
   "source": [
    "### Selecting Feature as Text"
   ]
  },
  {
   "cell_type": "code",
   "execution_count": 4,
   "id": "c0aa70ad",
   "metadata": {},
   "outputs": [],
   "source": [
    "data=df.Text.to_frame()"
   ]
  },
  {
   "cell_type": "code",
   "execution_count": 5,
   "id": "b47cdd98",
   "metadata": {},
   "outputs": [
    {
     "data": {
      "text/html": [
       "<div>\n",
       "<style scoped>\n",
       "    .dataframe tbody tr th:only-of-type {\n",
       "        vertical-align: middle;\n",
       "    }\n",
       "\n",
       "    .dataframe tbody tr th {\n",
       "        vertical-align: top;\n",
       "    }\n",
       "\n",
       "    .dataframe thead th {\n",
       "        text-align: right;\n",
       "    }\n",
       "</style>\n",
       "<table border=\"1\" class=\"dataframe\">\n",
       "  <thead>\n",
       "    <tr style=\"text-align: right;\">\n",
       "      <th></th>\n",
       "      <th>Text</th>\n",
       "    </tr>\n",
       "  </thead>\n",
       "  <tbody>\n",
       "    <tr>\n",
       "      <th>0</th>\n",
       "      <td>I have bought several of the Vitality canned d...</td>\n",
       "    </tr>\n",
       "    <tr>\n",
       "      <th>1</th>\n",
       "      <td>Product arrived labeled as Jumbo Salted Peanut...</td>\n",
       "    </tr>\n",
       "    <tr>\n",
       "      <th>2</th>\n",
       "      <td>This is a confection that has been around a fe...</td>\n",
       "    </tr>\n",
       "    <tr>\n",
       "      <th>3</th>\n",
       "      <td>If you are looking for the secret ingredient i...</td>\n",
       "    </tr>\n",
       "    <tr>\n",
       "      <th>4</th>\n",
       "      <td>Great taffy at a great price.  There was a wid...</td>\n",
       "    </tr>\n",
       "  </tbody>\n",
       "</table>\n",
       "</div>"
      ],
      "text/plain": [
       "                                                Text\n",
       "0  I have bought several of the Vitality canned d...\n",
       "1  Product arrived labeled as Jumbo Salted Peanut...\n",
       "2  This is a confection that has been around a fe...\n",
       "3  If you are looking for the secret ingredient i...\n",
       "4  Great taffy at a great price.  There was a wid..."
      ]
     },
     "execution_count": 5,
     "metadata": {},
     "output_type": "execute_result"
    }
   ],
   "source": [
    "data.head()"
   ]
  },
  {
   "attachments": {},
   "cell_type": "markdown",
   "id": "0daf7277",
   "metadata": {},
   "source": [
    "### Checking Null Values"
   ]
  },
  {
   "cell_type": "code",
   "execution_count": 6,
   "id": "a41fd68f",
   "metadata": {},
   "outputs": [
    {
     "data": {
      "text/plain": [
       "0"
      ]
     },
     "execution_count": 6,
     "metadata": {},
     "output_type": "execute_result"
    }
   ],
   "source": [
    "import numpy as np\n",
    "# checking null values\n",
    "np.sum(data['Text'].isnull())"
   ]
  },
  {
   "attachments": {},
   "cell_type": "markdown",
   "id": "f594a7ec",
   "metadata": {},
   "source": [
    "## Data Preprocessing"
   ]
  },
  {
   "cell_type": "code",
   "execution_count": 7,
   "id": "c0b2e251",
   "metadata": {},
   "outputs": [
    {
     "name": "stderr",
     "output_type": "stream",
     "text": [
      "[nltk_data] Downloading package stopwords to C:\\Users\\korla\n",
      "[nltk_data]     anusha\\AppData\\Roaming\\nltk_data...\n",
      "[nltk_data]   Package stopwords is already up-to-date!\n",
      "[nltk_data] Downloading package punkt to C:\\Users\\korla\n",
      "[nltk_data]     anusha\\AppData\\Roaming\\nltk_data...\n",
      "[nltk_data]   Package punkt is already up-to-date!\n",
      "[nltk_data] Downloading package vader_lexicon to C:\\Users\\korla\n",
      "[nltk_data]     anusha\\AppData\\Roaming\\nltk_data...\n",
      "[nltk_data]   Package vader_lexicon is already up-to-date!\n"
     ]
    },
    {
     "data": {
      "text/plain": [
       "True"
      ]
     },
     "execution_count": 7,
     "metadata": {},
     "output_type": "execute_result"
    }
   ],
   "source": [
    "# Download NLTK resources\n",
    "nltk.download('stopwords')\n",
    "nltk.download('punkt')\n",
    "nltk.download('vader_lexicon')"
   ]
  },
  {
   "cell_type": "code",
   "execution_count": 8,
   "id": "8e386a1c",
   "metadata": {},
   "outputs": [],
   "source": [
    "# Load stop words\n",
    "stop_words = set(stopwords.words('english'))"
   ]
  },
  {
   "cell_type": "code",
   "execution_count": 9,
   "id": "88a29edb",
   "metadata": {},
   "outputs": [],
   "source": [
    "# Preprocess text data\n",
    "data['Text'] = data['Text'].apply(lambda x: x.lower())  # Convert text to lowercase\n",
    "data['Text'] = data['Text'].apply(lambda x: word_tokenize(x))  # Tokenize text\n",
    "data['Text'] = data['Text'].apply(lambda x: [word for word in x if word not in stop_words])  # Remove stop words\n",
    "data['Text'] = data['Text'].apply(lambda x: ' '.join(x))  # Join filtered tokens back into a string"
   ]
  },
  {
   "attachments": {},
   "cell_type": "markdown",
   "id": "65164b4b",
   "metadata": {},
   "source": [
    "# Applying Polarity to extract positive,negative,nuetral values"
   ]
  },
  {
   "cell_type": "code",
   "execution_count": 10,
   "id": "d1160844",
   "metadata": {},
   "outputs": [],
   "source": [
    "# Apply polarity analysis to preprocessed reviews\n",
    "sia = SentimentIntensityAnalyzer()\n",
    "data['sentiment_scores'] = data['Text'].apply(lambda x: sia.polarity_scores(x))  # Apply polarity analysis"
   ]
  },
  {
   "cell_type": "code",
   "execution_count": 11,
   "id": "a45db2ef",
   "metadata": {},
   "outputs": [],
   "source": [
    "# Extract polarity scores\n",
    "data['neg_score'] = data['sentiment_scores'].apply(lambda x: x['neg'])\n",
    "data['neu_score'] = data['sentiment_scores'].apply(lambda x: x['neu'])\n",
    "data['pos_score'] = data['sentiment_scores'].apply(lambda x: x['pos'])\n",
    "data['compound_score'] = data['sentiment_scores'].apply(lambda x: x['compound'])"
   ]
  },
  {
   "cell_type": "code",
   "execution_count": 12,
   "id": "31c288dc",
   "metadata": {},
   "outputs": [],
   "source": [
    "# Convert polarity scores to target values\n",
    "data['target'] = data[['neg_score', 'neu_score', 'pos_score']].idxmax(axis=1)\n",
    "data['target'] = data['target'].apply(lambda x: 'positive' if x == 'pos_score' else ('negative' if x == 'neg_score' else 'neutral'))"
   ]
  },
  {
   "cell_type": "code",
   "execution_count": 13,
   "id": "bc63b85e",
   "metadata": {},
   "outputs": [
    {
     "data": {
      "text/html": [
       "<div>\n",
       "<style scoped>\n",
       "    .dataframe tbody tr th:only-of-type {\n",
       "        vertical-align: middle;\n",
       "    }\n",
       "\n",
       "    .dataframe tbody tr th {\n",
       "        vertical-align: top;\n",
       "    }\n",
       "\n",
       "    .dataframe thead th {\n",
       "        text-align: right;\n",
       "    }\n",
       "</style>\n",
       "<table border=\"1\" class=\"dataframe\">\n",
       "  <thead>\n",
       "    <tr style=\"text-align: right;\">\n",
       "      <th></th>\n",
       "      <th>Text</th>\n",
       "      <th>sentiment_scores</th>\n",
       "      <th>neg_score</th>\n",
       "      <th>neu_score</th>\n",
       "      <th>pos_score</th>\n",
       "      <th>compound_score</th>\n",
       "      <th>target</th>\n",
       "    </tr>\n",
       "  </thead>\n",
       "  <tbody>\n",
       "    <tr>\n",
       "      <th>0</th>\n",
       "      <td>bought several vitality canned dog food produc...</td>\n",
       "      <td>{'neg': 0.0, 'neu': 0.503, 'pos': 0.497, 'comp...</td>\n",
       "      <td>0.000</td>\n",
       "      <td>0.503</td>\n",
       "      <td>0.497</td>\n",
       "      <td>0.9413</td>\n",
       "      <td>neutral</td>\n",
       "    </tr>\n",
       "    <tr>\n",
       "      <th>1</th>\n",
       "      <td>product arrived labeled jumbo salted peanuts ....</td>\n",
       "      <td>{'neg': 0.113, 'neu': 0.792, 'pos': 0.096, 'co...</td>\n",
       "      <td>0.113</td>\n",
       "      <td>0.792</td>\n",
       "      <td>0.096</td>\n",
       "      <td>-0.1027</td>\n",
       "      <td>neutral</td>\n",
       "    </tr>\n",
       "    <tr>\n",
       "      <th>2</th>\n",
       "      <td>confection around centuries . light , pillowy ...</td>\n",
       "      <td>{'neg': 0.162, 'neu': 0.568, 'pos': 0.27, 'com...</td>\n",
       "      <td>0.162</td>\n",
       "      <td>0.568</td>\n",
       "      <td>0.270</td>\n",
       "      <td>0.8073</td>\n",
       "      <td>neutral</td>\n",
       "    </tr>\n",
       "    <tr>\n",
       "      <th>3</th>\n",
       "      <td>looking secret ingredient robitussin believe f...</td>\n",
       "      <td>{'neg': 0.0, 'neu': 0.854, 'pos': 0.146, 'comp...</td>\n",
       "      <td>0.000</td>\n",
       "      <td>0.854</td>\n",
       "      <td>0.146</td>\n",
       "      <td>0.4404</td>\n",
       "      <td>neutral</td>\n",
       "    </tr>\n",
       "    <tr>\n",
       "      <th>4</th>\n",
       "      <td>great taffy great price . wide assortment yumm...</td>\n",
       "      <td>{'neg': 0.0, 'neu': 0.369, 'pos': 0.631, 'comp...</td>\n",
       "      <td>0.000</td>\n",
       "      <td>0.369</td>\n",
       "      <td>0.631</td>\n",
       "      <td>0.9468</td>\n",
       "      <td>positive</td>\n",
       "    </tr>\n",
       "  </tbody>\n",
       "</table>\n",
       "</div>"
      ],
      "text/plain": [
       "                                                Text  \\\n",
       "0  bought several vitality canned dog food produc...   \n",
       "1  product arrived labeled jumbo salted peanuts ....   \n",
       "2  confection around centuries . light , pillowy ...   \n",
       "3  looking secret ingredient robitussin believe f...   \n",
       "4  great taffy great price . wide assortment yumm...   \n",
       "\n",
       "                                    sentiment_scores  neg_score  neu_score  \\\n",
       "0  {'neg': 0.0, 'neu': 0.503, 'pos': 0.497, 'comp...      0.000      0.503   \n",
       "1  {'neg': 0.113, 'neu': 0.792, 'pos': 0.096, 'co...      0.113      0.792   \n",
       "2  {'neg': 0.162, 'neu': 0.568, 'pos': 0.27, 'com...      0.162      0.568   \n",
       "3  {'neg': 0.0, 'neu': 0.854, 'pos': 0.146, 'comp...      0.000      0.854   \n",
       "4  {'neg': 0.0, 'neu': 0.369, 'pos': 0.631, 'comp...      0.000      0.369   \n",
       "\n",
       "   pos_score  compound_score    target  \n",
       "0      0.497          0.9413   neutral  \n",
       "1      0.096         -0.1027   neutral  \n",
       "2      0.270          0.8073   neutral  \n",
       "3      0.146          0.4404   neutral  \n",
       "4      0.631          0.9468  positive  "
      ]
     },
     "execution_count": 13,
     "metadata": {},
     "output_type": "execute_result"
    }
   ],
   "source": [
    "data.head()"
   ]
  },
  {
   "cell_type": "code",
   "execution_count": 14,
   "id": "3e91bf03",
   "metadata": {},
   "outputs": [],
   "source": [
    "# Extract positive and negative reviews\n",
    "data = data[(data['target'] == 'positive') | (data['target'] == 'negative')]"
   ]
  },
  {
   "cell_type": "code",
   "execution_count": 15,
   "id": "ac4ffdd6",
   "metadata": {},
   "outputs": [
    {
     "data": {
      "text/html": [
       "<div>\n",
       "<style scoped>\n",
       "    .dataframe tbody tr th:only-of-type {\n",
       "        vertical-align: middle;\n",
       "    }\n",
       "\n",
       "    .dataframe tbody tr th {\n",
       "        vertical-align: top;\n",
       "    }\n",
       "\n",
       "    .dataframe thead th {\n",
       "        text-align: right;\n",
       "    }\n",
       "</style>\n",
       "<table border=\"1\" class=\"dataframe\">\n",
       "  <thead>\n",
       "    <tr style=\"text-align: right;\">\n",
       "      <th></th>\n",
       "      <th>Text</th>\n",
       "      <th>sentiment_scores</th>\n",
       "      <th>neg_score</th>\n",
       "      <th>neu_score</th>\n",
       "      <th>pos_score</th>\n",
       "      <th>compound_score</th>\n",
       "      <th>target</th>\n",
       "    </tr>\n",
       "  </thead>\n",
       "  <tbody>\n",
       "    <tr>\n",
       "      <th>4</th>\n",
       "      <td>great taffy great price . wide assortment yumm...</td>\n",
       "      <td>{'neg': 0.0, 'neu': 0.369, 'pos': 0.631, 'comp...</td>\n",
       "      <td>0.000</td>\n",
       "      <td>0.369</td>\n",
       "      <td>0.631</td>\n",
       "      <td>0.9468</td>\n",
       "      <td>positive</td>\n",
       "    </tr>\n",
       "    <tr>\n",
       "      <th>7</th>\n",
       "      <td>taffy good . soft chewy . flavors amazing . wo...</td>\n",
       "      <td>{'neg': 0.0, 'neu': 0.279, 'pos': 0.721, 'comp...</td>\n",
       "      <td>0.000</td>\n",
       "      <td>0.279</td>\n",
       "      <td>0.721</td>\n",
       "      <td>0.9380</td>\n",
       "      <td>positive</td>\n",
       "    </tr>\n",
       "    <tr>\n",
       "      <th>13</th>\n",
       "      <td>good flavor ! came securely packed ... fresh d...</td>\n",
       "      <td>{'neg': 0.0, 'neu': 0.234, 'pos': 0.766, 'comp...</td>\n",
       "      <td>0.000</td>\n",
       "      <td>0.234</td>\n",
       "      <td>0.766</td>\n",
       "      <td>0.9466</td>\n",
       "      <td>positive</td>\n",
       "    </tr>\n",
       "    <tr>\n",
       "      <th>14</th>\n",
       "      <td>strawberry twizzlers guilty pleasure - yummy ....</td>\n",
       "      <td>{'neg': 0.176, 'neu': 0.377, 'pos': 0.447, 'co...</td>\n",
       "      <td>0.176</td>\n",
       "      <td>0.377</td>\n",
       "      <td>0.447</td>\n",
       "      <td>0.6486</td>\n",
       "      <td>positive</td>\n",
       "    </tr>\n",
       "    <tr>\n",
       "      <th>16</th>\n",
       "      <td>love eating good watching tv looking movies ! ...</td>\n",
       "      <td>{'neg': 0.0, 'neu': 0.461, 'pos': 0.539, 'comp...</td>\n",
       "      <td>0.000</td>\n",
       "      <td>0.461</td>\n",
       "      <td>0.539</td>\n",
       "      <td>0.9348</td>\n",
       "      <td>positive</td>\n",
       "    </tr>\n",
       "    <tr>\n",
       "      <th>...</th>\n",
       "      <td>...</td>\n",
       "      <td>...</td>\n",
       "      <td>...</td>\n",
       "      <td>...</td>\n",
       "      <td>...</td>\n",
       "      <td>...</td>\n",
       "      <td>...</td>\n",
       "    </tr>\n",
       "    <tr>\n",
       "      <th>568417</th>\n",
       "      <td>best brand mango chutney able buy enjoy .</td>\n",
       "      <td>{'neg': 0.0, 'neu': 0.403, 'pos': 0.597, 'comp...</td>\n",
       "      <td>0.000</td>\n",
       "      <td>0.403</td>\n",
       "      <td>0.597</td>\n",
       "      <td>0.8126</td>\n",
       "      <td>positive</td>\n",
       "    </tr>\n",
       "    <tr>\n",
       "      <th>568428</th>\n",
       "      <td>pricey enjoy treat flavor wonderfull packaging...</td>\n",
       "      <td>{'neg': 0.0, 'neu': 0.363, 'pos': 0.637, 'comp...</td>\n",
       "      <td>0.000</td>\n",
       "      <td>0.363</td>\n",
       "      <td>0.637</td>\n",
       "      <td>0.9674</td>\n",
       "      <td>positive</td>\n",
       "    </tr>\n",
       "    <tr>\n",
       "      <th>568442</th>\n",
       "      <td>product great . gives much energy tastes great...</td>\n",
       "      <td>{'neg': 0.145, 'neu': 0.374, 'pos': 0.481, 'co...</td>\n",
       "      <td>0.145</td>\n",
       "      <td>0.374</td>\n",
       "      <td>0.481</td>\n",
       "      <td>0.8020</td>\n",
       "      <td>positive</td>\n",
       "    </tr>\n",
       "    <tr>\n",
       "      <th>568449</th>\n",
       "      <td>great sesame chicken .. good better resturants...</td>\n",
       "      <td>{'neg': 0.0, 'neu': 0.465, 'pos': 0.535, 'comp...</td>\n",
       "      <td>0.000</td>\n",
       "      <td>0.465</td>\n",
       "      <td>0.535</td>\n",
       "      <td>0.9300</td>\n",
       "      <td>positive</td>\n",
       "    </tr>\n",
       "    <tr>\n",
       "      <th>568452</th>\n",
       "      <td>best treats training rewarding dog good groomi...</td>\n",
       "      <td>{'neg': 0.062, 'neu': 0.281, 'pos': 0.657, 'co...</td>\n",
       "      <td>0.062</td>\n",
       "      <td>0.281</td>\n",
       "      <td>0.657</td>\n",
       "      <td>0.9690</td>\n",
       "      <td>positive</td>\n",
       "    </tr>\n",
       "  </tbody>\n",
       "</table>\n",
       "<p>70033 rows × 7 columns</p>\n",
       "</div>"
      ],
      "text/plain": [
       "                                                     Text  \\\n",
       "4       great taffy great price . wide assortment yumm...   \n",
       "7       taffy good . soft chewy . flavors amazing . wo...   \n",
       "13      good flavor ! came securely packed ... fresh d...   \n",
       "14      strawberry twizzlers guilty pleasure - yummy ....   \n",
       "16      love eating good watching tv looking movies ! ...   \n",
       "...                                                   ...   \n",
       "568417          best brand mango chutney able buy enjoy .   \n",
       "568428  pricey enjoy treat flavor wonderfull packaging...   \n",
       "568442  product great . gives much energy tastes great...   \n",
       "568449  great sesame chicken .. good better resturants...   \n",
       "568452  best treats training rewarding dog good groomi...   \n",
       "\n",
       "                                         sentiment_scores  neg_score  \\\n",
       "4       {'neg': 0.0, 'neu': 0.369, 'pos': 0.631, 'comp...      0.000   \n",
       "7       {'neg': 0.0, 'neu': 0.279, 'pos': 0.721, 'comp...      0.000   \n",
       "13      {'neg': 0.0, 'neu': 0.234, 'pos': 0.766, 'comp...      0.000   \n",
       "14      {'neg': 0.176, 'neu': 0.377, 'pos': 0.447, 'co...      0.176   \n",
       "16      {'neg': 0.0, 'neu': 0.461, 'pos': 0.539, 'comp...      0.000   \n",
       "...                                                   ...        ...   \n",
       "568417  {'neg': 0.0, 'neu': 0.403, 'pos': 0.597, 'comp...      0.000   \n",
       "568428  {'neg': 0.0, 'neu': 0.363, 'pos': 0.637, 'comp...      0.000   \n",
       "568442  {'neg': 0.145, 'neu': 0.374, 'pos': 0.481, 'co...      0.145   \n",
       "568449  {'neg': 0.0, 'neu': 0.465, 'pos': 0.535, 'comp...      0.000   \n",
       "568452  {'neg': 0.062, 'neu': 0.281, 'pos': 0.657, 'co...      0.062   \n",
       "\n",
       "        neu_score  pos_score  compound_score    target  \n",
       "4           0.369      0.631          0.9468  positive  \n",
       "7           0.279      0.721          0.9380  positive  \n",
       "13          0.234      0.766          0.9466  positive  \n",
       "14          0.377      0.447          0.6486  positive  \n",
       "16          0.461      0.539          0.9348  positive  \n",
       "...           ...        ...             ...       ...  \n",
       "568417      0.403      0.597          0.8126  positive  \n",
       "568428      0.363      0.637          0.9674  positive  \n",
       "568442      0.374      0.481          0.8020  positive  \n",
       "568449      0.465      0.535          0.9300  positive  \n",
       "568452      0.281      0.657          0.9690  positive  \n",
       "\n",
       "[70033 rows x 7 columns]"
      ]
     },
     "execution_count": 15,
     "metadata": {},
     "output_type": "execute_result"
    }
   ],
   "source": [
    "data"
   ]
  },
  {
   "cell_type": "code",
   "execution_count": 16,
   "id": "31cbd8ef",
   "metadata": {},
   "outputs": [
    {
     "data": {
      "text/plain": [
       "positive    69187\n",
       "negative      846\n",
       "Name: target, dtype: int64"
      ]
     },
     "execution_count": 16,
     "metadata": {},
     "output_type": "execute_result"
    }
   ],
   "source": [
    "data['target'].value_counts()"
   ]
  },
  {
   "attachments": {},
   "cell_type": "markdown",
   "id": "636c9997",
   "metadata": {},
   "source": [
    "## Creating final DataFrame"
   ]
  },
  {
   "cell_type": "code",
   "execution_count": 17,
   "id": "1b450c10",
   "metadata": {},
   "outputs": [],
   "source": [
    "a=data[data['target']=='positive'][:800]\n",
    "b=data[data['target']=='negative'][:800]"
   ]
  },
  {
   "cell_type": "code",
   "execution_count": 18,
   "id": "67bbf9f2",
   "metadata": {},
   "outputs": [],
   "source": [
    "final=pd.concat([a,b])"
   ]
  },
  {
   "cell_type": "code",
   "execution_count": 19,
   "id": "288e5a6a",
   "metadata": {},
   "outputs": [
    {
     "data": {
      "text/plain": [
       "positive    800\n",
       "negative    800\n",
       "Name: target, dtype: int64"
      ]
     },
     "execution_count": 19,
     "metadata": {},
     "output_type": "execute_result"
    }
   ],
   "source": [
    "final['target'].value_counts()"
   ]
  },
  {
   "cell_type": "code",
   "execution_count": 20,
   "id": "b4e2dd71",
   "metadata": {},
   "outputs": [
    {
     "data": {
      "text/html": [
       "<div>\n",
       "<style scoped>\n",
       "    .dataframe tbody tr th:only-of-type {\n",
       "        vertical-align: middle;\n",
       "    }\n",
       "\n",
       "    .dataframe tbody tr th {\n",
       "        vertical-align: top;\n",
       "    }\n",
       "\n",
       "    .dataframe thead th {\n",
       "        text-align: right;\n",
       "    }\n",
       "</style>\n",
       "<table border=\"1\" class=\"dataframe\">\n",
       "  <thead>\n",
       "    <tr style=\"text-align: right;\">\n",
       "      <th></th>\n",
       "      <th>Text</th>\n",
       "      <th>sentiment_scores</th>\n",
       "      <th>neg_score</th>\n",
       "      <th>neu_score</th>\n",
       "      <th>pos_score</th>\n",
       "      <th>compound_score</th>\n",
       "      <th>target</th>\n",
       "    </tr>\n",
       "  </thead>\n",
       "  <tbody>\n",
       "    <tr>\n",
       "      <th>4</th>\n",
       "      <td>great taffy great price . wide assortment yumm...</td>\n",
       "      <td>{'neg': 0.0, 'neu': 0.369, 'pos': 0.631, 'comp...</td>\n",
       "      <td>0.000</td>\n",
       "      <td>0.369</td>\n",
       "      <td>0.631</td>\n",
       "      <td>0.9468</td>\n",
       "      <td>positive</td>\n",
       "    </tr>\n",
       "    <tr>\n",
       "      <th>7</th>\n",
       "      <td>taffy good . soft chewy . flavors amazing . wo...</td>\n",
       "      <td>{'neg': 0.0, 'neu': 0.279, 'pos': 0.721, 'comp...</td>\n",
       "      <td>0.000</td>\n",
       "      <td>0.279</td>\n",
       "      <td>0.721</td>\n",
       "      <td>0.9380</td>\n",
       "      <td>positive</td>\n",
       "    </tr>\n",
       "    <tr>\n",
       "      <th>13</th>\n",
       "      <td>good flavor ! came securely packed ... fresh d...</td>\n",
       "      <td>{'neg': 0.0, 'neu': 0.234, 'pos': 0.766, 'comp...</td>\n",
       "      <td>0.000</td>\n",
       "      <td>0.234</td>\n",
       "      <td>0.766</td>\n",
       "      <td>0.9466</td>\n",
       "      <td>positive</td>\n",
       "    </tr>\n",
       "    <tr>\n",
       "      <th>14</th>\n",
       "      <td>strawberry twizzlers guilty pleasure - yummy ....</td>\n",
       "      <td>{'neg': 0.176, 'neu': 0.377, 'pos': 0.447, 'co...</td>\n",
       "      <td>0.176</td>\n",
       "      <td>0.377</td>\n",
       "      <td>0.447</td>\n",
       "      <td>0.6486</td>\n",
       "      <td>positive</td>\n",
       "    </tr>\n",
       "    <tr>\n",
       "      <th>16</th>\n",
       "      <td>love eating good watching tv looking movies ! ...</td>\n",
       "      <td>{'neg': 0.0, 'neu': 0.461, 'pos': 0.539, 'comp...</td>\n",
       "      <td>0.000</td>\n",
       "      <td>0.461</td>\n",
       "      <td>0.539</td>\n",
       "      <td>0.9348</td>\n",
       "      <td>positive</td>\n",
       "    </tr>\n",
       "    <tr>\n",
       "      <th>...</th>\n",
       "      <td>...</td>\n",
       "      <td>...</td>\n",
       "      <td>...</td>\n",
       "      <td>...</td>\n",
       "      <td>...</td>\n",
       "      <td>...</td>\n",
       "      <td>...</td>\n",
       "    </tr>\n",
       "    <tr>\n",
       "      <th>524935</th>\n",
       "      <td>purchased package costco delicious . tasted aw...</td>\n",
       "      <td>{'neg': 0.412, 'neu': 0.338, 'pos': 0.25, 'com...</td>\n",
       "      <td>0.412</td>\n",
       "      <td>0.338</td>\n",
       "      <td>0.250</td>\n",
       "      <td>-0.3400</td>\n",
       "      <td>negative</td>\n",
       "    </tr>\n",
       "    <tr>\n",
       "      <th>525437</th>\n",
       "      <td>dog ate product packaged thailand got immediat...</td>\n",
       "      <td>{'neg': 0.503, 'neu': 0.497, 'pos': 0.0, 'comp...</td>\n",
       "      <td>0.503</td>\n",
       "      <td>0.497</td>\n",
       "      <td>0.000</td>\n",
       "      <td>-0.8442</td>\n",
       "      <td>negative</td>\n",
       "    </tr>\n",
       "    <tr>\n",
       "      <th>525983</th>\n",
       "      <td>warning , warning , warning .... buy ! ! ! ! !...</td>\n",
       "      <td>{'neg': 0.529, 'neu': 0.471, 'pos': 0.0, 'comp...</td>\n",
       "      <td>0.529</td>\n",
       "      <td>0.471</td>\n",
       "      <td>0.000</td>\n",
       "      <td>-0.9522</td>\n",
       "      <td>negative</td>\n",
       "    </tr>\n",
       "    <tr>\n",
       "      <th>526415</th>\n",
       "      <td>n't like stevia well brand . n't sweet coffee ...</td>\n",
       "      <td>{'neg': 0.466, 'neu': 0.364, 'pos': 0.17, 'com...</td>\n",
       "      <td>0.466</td>\n",
       "      <td>0.364</td>\n",
       "      <td>0.170</td>\n",
       "      <td>-0.4717</td>\n",
       "      <td>negative</td>\n",
       "    </tr>\n",
       "    <tr>\n",
       "      <th>526571</th>\n",
       "      <td>good mild coffee drinker n't like strong bold ...</td>\n",
       "      <td>{'neg': 0.383, 'neu': 0.375, 'pos': 0.242, 'co...</td>\n",
       "      <td>0.383</td>\n",
       "      <td>0.375</td>\n",
       "      <td>0.242</td>\n",
       "      <td>-0.2769</td>\n",
       "      <td>negative</td>\n",
       "    </tr>\n",
       "  </tbody>\n",
       "</table>\n",
       "<p>1600 rows × 7 columns</p>\n",
       "</div>"
      ],
      "text/plain": [
       "                                                     Text  \\\n",
       "4       great taffy great price . wide assortment yumm...   \n",
       "7       taffy good . soft chewy . flavors amazing . wo...   \n",
       "13      good flavor ! came securely packed ... fresh d...   \n",
       "14      strawberry twizzlers guilty pleasure - yummy ....   \n",
       "16      love eating good watching tv looking movies ! ...   \n",
       "...                                                   ...   \n",
       "524935  purchased package costco delicious . tasted aw...   \n",
       "525437  dog ate product packaged thailand got immediat...   \n",
       "525983  warning , warning , warning .... buy ! ! ! ! !...   \n",
       "526415  n't like stevia well brand . n't sweet coffee ...   \n",
       "526571  good mild coffee drinker n't like strong bold ...   \n",
       "\n",
       "                                         sentiment_scores  neg_score  \\\n",
       "4       {'neg': 0.0, 'neu': 0.369, 'pos': 0.631, 'comp...      0.000   \n",
       "7       {'neg': 0.0, 'neu': 0.279, 'pos': 0.721, 'comp...      0.000   \n",
       "13      {'neg': 0.0, 'neu': 0.234, 'pos': 0.766, 'comp...      0.000   \n",
       "14      {'neg': 0.176, 'neu': 0.377, 'pos': 0.447, 'co...      0.176   \n",
       "16      {'neg': 0.0, 'neu': 0.461, 'pos': 0.539, 'comp...      0.000   \n",
       "...                                                   ...        ...   \n",
       "524935  {'neg': 0.412, 'neu': 0.338, 'pos': 0.25, 'com...      0.412   \n",
       "525437  {'neg': 0.503, 'neu': 0.497, 'pos': 0.0, 'comp...      0.503   \n",
       "525983  {'neg': 0.529, 'neu': 0.471, 'pos': 0.0, 'comp...      0.529   \n",
       "526415  {'neg': 0.466, 'neu': 0.364, 'pos': 0.17, 'com...      0.466   \n",
       "526571  {'neg': 0.383, 'neu': 0.375, 'pos': 0.242, 'co...      0.383   \n",
       "\n",
       "        neu_score  pos_score  compound_score    target  \n",
       "4           0.369      0.631          0.9468  positive  \n",
       "7           0.279      0.721          0.9380  positive  \n",
       "13          0.234      0.766          0.9466  positive  \n",
       "14          0.377      0.447          0.6486  positive  \n",
       "16          0.461      0.539          0.9348  positive  \n",
       "...           ...        ...             ...       ...  \n",
       "524935      0.338      0.250         -0.3400  negative  \n",
       "525437      0.497      0.000         -0.8442  negative  \n",
       "525983      0.471      0.000         -0.9522  negative  \n",
       "526415      0.364      0.170         -0.4717  negative  \n",
       "526571      0.375      0.242         -0.2769  negative  \n",
       "\n",
       "[1600 rows x 7 columns]"
      ]
     },
     "execution_count": 20,
     "metadata": {},
     "output_type": "execute_result"
    }
   ],
   "source": [
    "final"
   ]
  },
  {
   "attachments": {},
   "cell_type": "markdown",
   "id": "8da9e901",
   "metadata": {},
   "source": [
    "# Word Cloud for negetive and positive "
   ]
  },
  {
   "cell_type": "code",
   "execution_count": 22,
   "id": "d9a47dc2",
   "metadata": {},
   "outputs": [
    {
     "name": "stdout",
     "output_type": "stream",
     "text": [
      "Collecting WordCloud\n",
      "  Downloading wordcloud-1.8.2.2-cp39-cp39-win_amd64.whl (153 kB)\n",
      "Requirement already satisfied: numpy>=1.6.1 in d:\\anaconda3\\lib\\site-packages (from WordCloud) (1.21.5)\n",
      "Requirement already satisfied: pillow in d:\\anaconda3\\lib\\site-packages (from WordCloud) (9.0.1)\n",
      "Requirement already satisfied: matplotlib in d:\\anaconda3\\lib\\site-packages (from WordCloud) (3.5.1)\n",
      "Requirement already satisfied: fonttools>=4.22.0 in d:\\anaconda3\\lib\\site-packages (from matplotlib->WordCloud) (4.25.0)\n",
      "Requirement already satisfied: python-dateutil>=2.7 in d:\\anaconda3\\lib\\site-packages (from matplotlib->WordCloud) (2.8.2)\n",
      "Requirement already satisfied: pyparsing>=2.2.1 in d:\\anaconda3\\lib\\site-packages (from matplotlib->WordCloud) (3.0.4)\n",
      "Requirement already satisfied: kiwisolver>=1.0.1 in d:\\anaconda3\\lib\\site-packages (from matplotlib->WordCloud) (1.3.2)\n",
      "Requirement already satisfied: packaging>=20.0 in d:\\anaconda3\\lib\\site-packages (from matplotlib->WordCloud) (21.3)\n",
      "Requirement already satisfied: cycler>=0.10 in d:\\anaconda3\\lib\\site-packages (from matplotlib->WordCloud) (0.11.0)\n",
      "Requirement already satisfied: six>=1.5 in d:\\anaconda3\\lib\\site-packages (from python-dateutil>=2.7->matplotlib->WordCloud) (1.16.0)\n",
      "Installing collected packages: WordCloud\n",
      "Successfully installed WordCloud-1.8.2.2\n",
      "Note: you may need to restart the kernel to use updated packages.\n"
     ]
    }
   ],
   "source": [
    "pip install WordCloud"
   ]
  },
  {
   "cell_type": "code",
   "execution_count": 23,
   "id": "1097b0b3",
   "metadata": {},
   "outputs": [],
   "source": [
    "from wordcloud import WordCloud\n",
    "# Extract positive and negative texts\n",
    "positive_text = ' '.join(final[final['target'] == 'positive']['Text'])\n",
    "negative_text = ' '.join(final[final['target'] == 'negative']['Text'])\n",
    "\n",
    "# Check if texts are empty\n",
    "if len(positive_text) == 0:\n",
    "    print('Warning: No positive words found.')\n",
    "if len(negative_text) == 0:\n",
    "    print('Warning: No negative words found.')\n",
    "\n",
    "# Generate word clouds\n",
    "pos_freq = {word: positive_text.count(word) for word in positive_text.split()}\n",
    "pos_cloud = WordCloud(background_color=\"white\").generate_from_frequencies(pos_freq)\n",
    "\n",
    "neg_freq = {word: negative_text.count(word) for word in negative_text.split()}\n",
    "neg_cloud = WordCloud(background_color=\"white\").generate_from_frequencies(neg_freq)"
   ]
  },
  {
   "cell_type": "code",
   "execution_count": null,
   "id": "ee835773",
   "metadata": {},
   "outputs": [],
   "source": []
  },
  {
   "cell_type": "code",
   "execution_count": 24,
   "id": "0c1a45f1",
   "metadata": {},
   "outputs": [
    {
     "data": {
      "image/png": "[encoded data removed]",
      "text/plain": [
       "<Figure size 864x432 with 2 Axes>"
      ]
     },
     "metadata": {
      "needs_background": "light"
     },
     "output_type": "display_data"
    }
   ],
   "source": [
    "import matplotlib.pyplot as plt\n",
    "# Display word clouds\n",
    "fig, axs = plt.subplots(1, 2, figsize=(12, 6))\n",
    "axs[0].imshow(pos_cloud, interpolation='bilinear')\n",
    "axs[0].set_title('Positive Words')\n",
    "axs[0].axis(\"off\")\n",
    "\n",
    "axs[1].imshow(neg_cloud, interpolation='bilinear')\n",
    "axs[1].set_title('Negative Words')\n",
    "axs[1].axis(\"off\")\n",
    "\n",
    "plt.show()"
   ]
  },
  {
   "cell_type": "code",
   "execution_count": 25,
   "id": "0464748d",
   "metadata": {},
   "outputs": [],
   "source": [
    "from sklearn.metrics import confusion_matrix, classification_report\n",
    "from sklearn.metrics import accuracy_score\n",
    "from sklearn.model_selection import train_test_split"
   ]
  },
  {
   "cell_type": "code",
   "execution_count": 26,
   "id": "2652e4d7",
   "metadata": {},
   "outputs": [],
   "source": [
    "X = final['Text']"
   ]
  },
  {
   "attachments": {},
   "cell_type": "markdown",
   "id": "e850f266",
   "metadata": {},
   "source": [
    "## Encoding the labels"
   ]
  },
  {
   "cell_type": "code",
   "execution_count": 27,
   "id": "671c6e3a",
   "metadata": {},
   "outputs": [],
   "source": [
    "from sklearn.preprocessing import LabelEncoder\n",
    "labelencoder = LabelEncoder()\n",
    "final['target'] = labelencoder.fit_transform(final['target'])"
   ]
  },
  {
   "cell_type": "code",
   "execution_count": 28,
   "id": "4270d20e",
   "metadata": {},
   "outputs": [
    {
     "data": {
      "text/plain": [
       "1    800\n",
       "0    800\n",
       "Name: target, dtype: int64"
      ]
     },
     "execution_count": 28,
     "metadata": {},
     "output_type": "execute_result"
    }
   ],
   "source": [
    "final['target'].value_counts()"
   ]
  },
  {
   "cell_type": "code",
   "execution_count": 29,
   "id": "70b11508",
   "metadata": {},
   "outputs": [],
   "source": [
    "y = final['target']"
   ]
  },
  {
   "attachments": {},
   "cell_type": "markdown",
   "id": "d0226a86",
   "metadata": {},
   "source": [
    "## Splitting the data into train and test"
   ]
  },
  {
   "cell_type": "code",
   "execution_count": 30,
   "id": "fcdc3399",
   "metadata": {},
   "outputs": [],
   "source": [
    "X_train, X_test, y_train, y_test = train_test_split(X, y, test_size= 0.3, random_state= 41)"
   ]
  },
  {
   "attachments": {},
   "cell_type": "markdown",
   "id": "eb301be5",
   "metadata": {},
   "source": [
    "# Word embedding techniques"
   ]
  },
  {
   "cell_type": "code",
   "execution_count": 31,
   "id": "4f632214",
   "metadata": {},
   "outputs": [
    {
     "data": {
      "text/plain": [
       "TfidfVectorizer(max_features=2000, ngram_range=(1, 2))"
      ]
     },
     "execution_count": 31,
     "metadata": {},
     "output_type": "execute_result"
    }
   ],
   "source": [
    "from sklearn.feature_extraction.text import TfidfVectorizer\n",
    "vectoriser = TfidfVectorizer(ngram_range=(1,2), max_features= 2000)\n",
    "vectoriser.fit(X_train)"
   ]
  },
  {
   "cell_type": "code",
   "execution_count": 32,
   "id": "2d523ebb",
   "metadata": {},
   "outputs": [],
   "source": [
    "import pickle\n",
    "with open('../model/tfidf.pkl', 'wb') as f:\n",
    "    pickle.dump(vectoriser, f)"
   ]
  },
  {
   "cell_type": "code",
   "execution_count": 33,
   "id": "a3000ae0",
   "metadata": {},
   "outputs": [],
   "source": [
    "X_train = vectoriser.transform(X_train)\n",
    "X_test = vectoriser.transform(X_test)"
   ]
  },
  {
   "cell_type": "code",
   "execution_count": 34,
   "id": "2e55fda2",
   "metadata": {},
   "outputs": [
    {
     "data": {
      "text/plain": [
       "(1120, 2000)"
      ]
     },
     "execution_count": 34,
     "metadata": {},
     "output_type": "execute_result"
    }
   ],
   "source": [
    "X_train.shape"
   ]
  },
  {
   "cell_type": "code",
   "execution_count": 35,
   "id": "a7b8c205",
   "metadata": {},
   "outputs": [
    {
     "data": {
      "text/plain": [
       "(1120,)"
      ]
     },
     "execution_count": 35,
     "metadata": {},
     "output_type": "execute_result"
    }
   ],
   "source": [
    "y_train.shape"
   ]
  },
  {
   "attachments": {},
   "cell_type": "markdown",
   "id": "810c4eb2",
   "metadata": {},
   "source": [
    "# Applying the Xgboost model"
   ]
  },
  {
   "cell_type": "code",
   "execution_count": 36,
   "id": "47b58705",
   "metadata": {},
   "outputs": [
    {
     "data": {
      "text/plain": [
       "GridSearchCV(cv=5,\n",
       "             estimator=XGBClassifier(base_score=None, booster=None,\n",
       "                                     callbacks=None, colsample_bylevel=None,\n",
       "                                     colsample_bynode=None,\n",
       "                                     colsample_bytree=None,\n",
       "                                     early_stopping_rounds=None,\n",
       "                                     enable_categorical=False, eval_metric=None,\n",
       "                                     feature_types=None, gamma=None,\n",
       "                                     gpu_id=None, grow_policy=None,\n",
       "                                     importance_type=None,\n",
       "                                     interaction_constraints=None,\n",
       "                                     learning_rate=None,...bin=None,\n",
       "                                     max_cat_threshold=None,\n",
       "                                     max_cat_to_onehot=None,\n",
       "                                     max_delta_step=None, max_depth=None,\n",
       "                                     max_leaves=None, min_child_weight=None,\n",
       "                                     missing=nan, monotone_constraints=None,\n",
       "                                     n_estimators=100, n_jobs=None,\n",
       "                                     num_parallel_tree=None, predictor=None,\n",
       "                                     random_state=None, ...),\n",
       "             param_grid={'learning_rate': [0.1, 0.01, 0.001],\n",
       "                         'max_depth': [3, 4, 5],\n",
       "                         'n_estimators': [50, 100, 200]})"
      ]
     },
     "execution_count": 36,
     "metadata": {},
     "output_type": "execute_result"
    }
   ],
   "source": [
    "import xgboost as xgb\n",
    "from sklearn.model_selection import GridSearchCV\n",
    "# Create an XGBoost model\n",
    "model = xgb.XGBClassifier()\n",
    "# Define hyperparameters to search over\n",
    "param_grid = {\n",
    "    'max_depth': [3, 4, 5],\n",
    "    'learning_rate': [0.1, 0.01, 0.001],\n",
    "    'n_estimators': [50, 100, 200],\n",
    "}\n",
    "# Create a GridSearchCV object and fit it to the training data\n",
    "grid_search = GridSearchCV(model, param_grid=param_grid, cv=5)\n",
    "grid_search.fit(X_train, y_train)"
   ]
  },
  {
   "cell_type": "code",
   "execution_count": 37,
   "id": "f2dd2db1",
   "metadata": {},
   "outputs": [
    {
     "data": {
      "text/plain": [
       "XGBClassifier(base_score=None, booster=None, callbacks=None,\n",
       "              colsample_bylevel=None, colsample_bynode=None,\n",
       "              colsample_bytree=None, early_stopping_rounds=None,\n",
       "              enable_categorical=False, eval_metric=None, feature_types=None,\n",
       "              gamma=None, gpu_id=None, grow_policy=None, importance_type=None,\n",
       "              interaction_constraints=None, learning_rate=0.1, max_bin=None,\n",
       "              max_cat_threshold=None, max_cat_to_onehot=None,\n",
       "              max_delta_step=None, max_depth=4, max_leaves=None,\n",
       "              min_child_weight=None, missing=nan, monotone_constraints=None,\n",
       "              n_estimators=200, n_jobs=None, num_parallel_tree=None,\n",
       "              predictor=None, random_state=None, ...)"
      ]
     },
     "execution_count": 37,
     "metadata": {},
     "output_type": "execute_result"
    }
   ],
   "source": [
    "best_model = xgb.XGBClassifier(**grid_search.best_params_)\n",
    "best_model.fit(X_train, y_train)"
   ]
  },
  {
   "cell_type": "code",
   "execution_count": 38,
   "id": "bfb875bf",
   "metadata": {},
   "outputs": [],
   "source": [
    "# Evaluate the model on the test data\n",
    "y_pred = best_model.predict(X_test)"
   ]
  },
  {
   "attachments": {},
   "cell_type": "markdown",
   "id": "fd63339e",
   "metadata": {},
   "source": [
    "###  finding accuracy score"
   ]
  },
  {
   "cell_type": "code",
   "execution_count": 39,
   "id": "f22c8c46",
   "metadata": {},
   "outputs": [],
   "source": [
    "score = accuracy_score(y_test, y_pred)"
   ]
  },
  {
   "cell_type": "code",
   "execution_count": 40,
   "id": "d6a46595",
   "metadata": {},
   "outputs": [
    {
     "name": "stdout",
     "output_type": "stream",
     "text": [
      "0.8833333333333333\n"
     ]
    }
   ],
   "source": [
    "print(score)"
   ]
  },
  {
   "attachments": {},
   "cell_type": "markdown",
   "id": "1ff46f2a",
   "metadata": {},
   "source": [
    "# Confusion Matrix"
   ]
  },
  {
   "cell_type": "code",
   "execution_count": 41,
   "id": "513be8b9",
   "metadata": {},
   "outputs": [
    {
     "data": {
      "image/png": "[encoded data removed]",
      "text/plain": [
       "<Figure size 432x288 with 2 Axes>"
      ]
     },
     "metadata": {
      "needs_background": "light"
     },
     "output_type": "display_data"
    }
   ],
   "source": [
    "import seaborn as sns\n",
    "import matplotlib.pyplot as plt\n",
    "from sklearn.metrics import confusion_matrix\n",
    "cf_matrix = confusion_matrix(y_test,y_pred)\n",
    "ax = sns.heatmap(cf_matrix, annot=True, cmap='BuGn',fmt='0.0f')\n",
    "ax.set_title('Seaborn Confusion Matrix with labels\\n\\n');\n",
    "ax.set_xlabel('\\nPredicted Values')\n",
    "ax.set_ylabel('Actual Values');\n",
    "plt.show()"
   ]
  },
  {
   "attachments": {},
   "cell_type": "markdown",
   "id": "b315343f",
   "metadata": {},
   "source": [
    "# Classification Report"
   ]
  },
  {
   "cell_type": "code",
   "execution_count": 42,
   "id": "00fb11bf",
   "metadata": {},
   "outputs": [
    {
     "name": "stdout",
     "output_type": "stream",
     "text": [
      "              precision    recall  f1-score   support\n",
      "\n",
      "           0       0.87      0.92      0.89       251\n",
      "           1       0.91      0.84      0.87       229\n",
      "\n",
      "    accuracy                           0.88       480\n",
      "   macro avg       0.89      0.88      0.88       480\n",
      "weighted avg       0.88      0.88      0.88       480\n",
      "\n"
     ]
    }
   ],
   "source": [
    "print(classification_report(y_test, y_pred))"
   ]
  },
  {
   "attachments": {},
   "cell_type": "markdown",
   "id": "0dec7dda",
   "metadata": {},
   "source": [
    "# Adaboost Algorithm"
   ]
  },
  {
   "cell_type": "code",
   "execution_count": 43,
   "id": "6f4f7973",
   "metadata": {},
   "outputs": [],
   "source": [
    "from sklearn.ensemble import AdaBoostClassifier"
   ]
  },
  {
   "cell_type": "code",
   "execution_count": 44,
   "id": "ffa07a66",
   "metadata": {},
   "outputs": [
    {
     "data": {
      "text/plain": [
       "AdaBoostClassifier(n_estimators=100)"
      ]
     },
     "execution_count": 44,
     "metadata": {},
     "output_type": "execute_result"
    }
   ],
   "source": [
    "ada = AdaBoostClassifier( n_estimators=100)\n",
    "ada.fit(X_train, y_train)"
   ]
  },
  {
   "cell_type": "code",
   "execution_count": 45,
   "id": "92200779",
   "metadata": {},
   "outputs": [],
   "source": [
    "# Predict on testing set\n",
    "y_pred = ada.predict(X_test)"
   ]
  },
  {
   "attachments": {},
   "cell_type": "markdown",
   "id": "b0a5dea1",
   "metadata": {},
   "source": [
    "# Finding Accuracy"
   ]
  },
  {
   "cell_type": "code",
   "execution_count": 46,
   "id": "23c24f12",
   "metadata": {},
   "outputs": [
    {
     "name": "stdout",
     "output_type": "stream",
     "text": [
      "Accuracy: 0.8729166666666667\n"
     ]
    }
   ],
   "source": [
    "# Calculate accuracy\n",
    "accuracy = accuracy_score(y_test, y_pred)\n",
    "# Print accuracy\n",
    "print(\"Accuracy:\", accuracy)"
   ]
  },
  {
   "attachments": {},
   "cell_type": "markdown",
   "id": "b0e94c9e",
   "metadata": {},
   "source": [
    "# Confusion Matrix"
   ]
  },
  {
   "cell_type": "code",
   "execution_count": 47,
   "id": "0d32f2c2",
   "metadata": {},
   "outputs": [
    {
     "data": {
      "image/png": "[encoded data removed]",
      "text/plain": [
       "<Figure size 432x288 with 2 Axes>"
      ]
     },
     "metadata": {
      "needs_background": "light"
     },
     "output_type": "display_data"
    }
   ],
   "source": [
    "#confusion matrix\n",
    "cm = confusion_matrix(y_test, y_pred)\n",
    "sns.heatmap(cm, annot=True, cmap='Blues',fmt='g')\n",
    "plt.xlabel('Predicted labels')\n",
    "plt.ylabel('True labels')\n",
    "plt.show()"
   ]
  },
  {
   "attachments": {},
   "cell_type": "markdown",
   "id": "e0e51120",
   "metadata": {},
   "source": [
    "# Classification Report"
   ]
  },
  {
   "cell_type": "code",
   "execution_count": 48,
   "id": "06e11ab4",
   "metadata": {},
   "outputs": [
    {
     "name": "stdout",
     "output_type": "stream",
     "text": [
      "              precision    recall  f1-score   support\n",
      "\n",
      "           0       0.84      0.93      0.88       251\n",
      "           1       0.92      0.81      0.86       229\n",
      "\n",
      "    accuracy                           0.87       480\n",
      "   macro avg       0.88      0.87      0.87       480\n",
      "weighted avg       0.88      0.87      0.87       480\n",
      "\n"
     ]
    }
   ],
   "source": [
    "print(classification_report(y_test, y_pred))"
   ]
  },
  {
   "attachments": {},
   "cell_type": "markdown",
   "id": "8da9f12d",
   "metadata": {},
   "source": [
    "# Applying the Navi Bayes model"
   ]
  },
  {
   "cell_type": "code",
   "execution_count": 49,
   "id": "8a6264fc",
   "metadata": {},
   "outputs": [],
   "source": [
    "from sklearn.naive_bayes import MultinomialNB\n",
    "classifier=MultinomialNB(alpha=0.001)"
   ]
  },
  {
   "cell_type": "code",
   "execution_count": 50,
   "id": "f12b14b8",
   "metadata": {},
   "outputs": [],
   "source": [
    "classifier.fit(X_train, y_train)\n",
    "pred = classifier.predict(X_test)\n",
    "score = accuracy_score(y_test, pred)"
   ]
  },
  {
   "cell_type": "code",
   "execution_count": 51,
   "id": "d129dccf",
   "metadata": {},
   "outputs": [
    {
     "name": "stdout",
     "output_type": "stream",
     "text": [
      "0.9145833333333333\n"
     ]
    }
   ],
   "source": [
    "print(score)"
   ]
  },
  {
   "cell_type": "code",
   "execution_count": 52,
   "id": "4db1156f",
   "metadata": {},
   "outputs": [
    {
     "data": {
      "image/png": "[encoded data removed]",
      "text/plain": [
       "<Figure size 432x288 with 2 Axes>"
      ]
     },
     "metadata": {
      "needs_background": "light"
     },
     "output_type": "display_data"
    }
   ],
   "source": [
    "import seaborn as sns\n",
    "from sklearn.metrics import confusion_matrix\n",
    "cf_matrix = confusion_matrix(y_test,pred)\n",
    "ax = sns.heatmap(cf_matrix, annot=True, cmap='BuGn',fmt='0.0f')\n",
    "ax.set_title('Seaborn Confusion Matrix with labels\\n\\n');\n",
    "ax.set_xlabel('\\nPredicted Values')\n",
    "ax.set_ylabel('Actual Values');\n",
    "plt.show()"
   ]
  },
  {
   "cell_type": "code",
   "execution_count": 53,
   "id": "55643322",
   "metadata": {},
   "outputs": [
    {
     "name": "stdout",
     "output_type": "stream",
     "text": [
      "              precision    recall  f1-score   support\n",
      "\n",
      "           0       0.96      0.88      0.91       251\n",
      "           1       0.88      0.96      0.91       229\n",
      "\n",
      "    accuracy                           0.91       480\n",
      "   macro avg       0.92      0.92      0.91       480\n",
      "weighted avg       0.92      0.91      0.91       480\n",
      "\n"
     ]
    }
   ],
   "source": [
    "# classification report for navie bayes\n",
    "print(classification_report(y_test, pred))"
   ]
  },
  {
   "cell_type": "code",
   "execution_count": 54,
   "id": "7fe370b8",
   "metadata": {},
   "outputs": [],
   "source": [
    "pickle.dump(classifier, open(r'../model/nb_model.sav', 'wb'))"
   ]
  },
  {
   "cell_type": "code",
   "execution_count": 55,
   "id": "5d1a0f52",
   "metadata": {},
   "outputs": [
    {
     "ename": "NameError",
     "evalue": "name 'aDFGSDHFJGK' is not defined",
     "output_type": "error",
     "traceback": [
      "\u001b[1;31m---------------------------------------------------------------------------\u001b[0m",
      "\u001b[1;31mNameError\u001b[0m                                 Traceback (most recent call last)",
      "Input \u001b[1;32mIn [55]\u001b[0m, in \u001b[0;36m<cell line: 1>\u001b[1;34m()\u001b[0m\n\u001b[1;32m----> 1\u001b[0m \u001b[43maDFGSDHFJGK\u001b[49m\n",
      "\u001b[1;31mNameError\u001b[0m: name 'aDFGSDHFJGK' is not defined"
     ]
    }
   ],
   "source": [
    "aDFGSDHFJGK"
   ]
  },
  {
   "attachments": {},
   "cell_type": "markdown",
   "id": "333a0d87",
   "metadata": {},
   "source": [
    "## Predictions"
   ]
  },
  {
   "cell_type": "code",
   "execution_count": 56,
   "id": "c9ded117",
   "metadata": {},
   "outputs": [],
   "source": [
    "example = np.zeros(100)\n",
    "example = [final['Text'][526571]]\n",
    "example = vectoriser.transform(example)\n",
    "p=classifier.predict(example)"
   ]
  },
  {
   "cell_type": "code",
   "execution_count": 57,
   "id": "c9ca9719",
   "metadata": {},
   "outputs": [
    {
     "data": {
      "text/plain": [
       "array([0])"
      ]
     },
     "execution_count": 57,
     "metadata": {},
     "output_type": "execute_result"
    }
   ],
   "source": [
    "p"
   ]
  },
  {
   "cell_type": "code",
   "execution_count": 58,
   "id": "3c4c96b8",
   "metadata": {},
   "outputs": [
    {
     "name": "stdout",
     "output_type": "stream",
     "text": [
      "Frusted\n"
     ]
    }
   ],
   "source": [
    "if p == 0:\n",
    "    print(\"Frustrated\")\n",
    "else:\n",
    "    print(\"Not Frustrated\")"
   ]
  },
  {
   "attachments": {},
   "cell_type": "markdown",
   "id": "9de63d26",
   "metadata": {},
   "source": [
    "## Model saving"
   ]
  },
  {
   "cell_type": "code",
   "execution_count": 59,
   "id": "e0ce0543",
   "metadata": {},
   "outputs": [],
   "source": [
    "import pickle\n",
    "model_path = 'detection.pkl'\n",
    "with open(model_path, 'wb') as file:\n",
    "    pickle.dump(best_model, file)\n",
    "\n",
    "file.close()"
   ]
  },
  {
   "cell_type": "code",
   "execution_count": null,
   "id": "7300c80a",
   "metadata": {},
   "outputs": [],
   "source": []
  },
  {
   "cell_type": "code",
   "execution_count": null,
   "id": "e47d50ee",
   "metadata": {},
   "outputs": [],
   "source": []
  }
 ],
 "metadata": {
  "kernelspec": {
   "display_name": "Python 3 (ipykernel)",
   "language": "python",
   "name": "python3"
  },
  "language_info": {
   "codemirror_mode": {
    "name": "ipython",
    "version": 3
   },
   "file_extension": ".py",
   "mimetype": "text/x-python",
   "name": "python",
   "nbconvert_exporter": "python",
   "pygments_lexer": "ipython3",
   "version": "3.9.12"
  }
 },
 "nbformat": 4,
 "nbformat_minor": 5
}
