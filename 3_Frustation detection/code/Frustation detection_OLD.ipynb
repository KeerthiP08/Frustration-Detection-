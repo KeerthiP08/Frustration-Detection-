{
 "cells": [
  {
   "cell_type": "markdown",
   "id": "c0ece307",
   "metadata": {},
   "source": [
    "### Importing Necessary Libraries"
   ]
  },
  {
   "cell_type": "code",
   "execution_count": 1,
   "id": "a0fcdc0a",
   "metadata": {},
   "outputs": [],
   "source": [
    "import pandas as pd\n",
    "import nltk\n",
    "from nltk.corpus import stopwords\n",
    "from nltk.tokenize import word_tokenize\n",
    "from nltk.sentiment.vader import SentimentIntensityAnalyzer"
   ]
  },
  {
   "cell_type": "markdown",
   "id": "e3e355d5",
   "metadata": {},
   "source": [
    "### Loading Dataset"
   ]
  },
  {
   "cell_type": "code",
   "execution_count": 2,
   "id": "4cfcd94f",
   "metadata": {},
   "outputs": [],
   "source": [
    "df=pd.read_csv(r'../data/Reviews.csv')"
   ]
  },
  {
   "cell_type": "code",
   "execution_count": 3,
   "id": "28edd177",
   "metadata": {
    "scrolled": true
   },
   "outputs": [
    {
     "data": {
      "text/html": [
       "<div>\n",
       "<style scoped>\n",
       "    .dataframe tbody tr th:only-of-type {\n",
       "        vertical-align: middle;\n",
       "    }\n",
       "\n",
       "    .dataframe tbody tr th {\n",
       "        vertical-align: top;\n",
       "    }\n",
       "\n",
       "    .dataframe thead th {\n",
       "        text-align: right;\n",
       "    }\n",
       "</style>\n",
       "<table border=\"1\" class=\"dataframe\">\n",
       "  <thead>\n",
       "    <tr style=\"text-align: right;\">\n",
       "      <th></th>\n",
       "      <th>Id</th>\n",
       "      <th>ProductId</th>\n",
       "      <th>UserId</th>\n",
       "      <th>ProfileName</th>\n",
       "      <th>HelpfulnessNumerator</th>\n",
       "      <th>HelpfulnessDenominator</th>\n",
       "      <th>Score</th>\n",
       "      <th>Time</th>\n",
       "      <th>Summary</th>\n",
       "      <th>Text</th>\n",
       "    </tr>\n",
       "  </thead>\n",
       "  <tbody>\n",
       "    <tr>\n",
       "      <th>0</th>\n",
       "      <td>1</td>\n",
       "      <td>B001E4KFG0</td>\n",
       "      <td>A3SGXH7AUHU8GW</td>\n",
       "      <td>delmartian</td>\n",
       "      <td>1</td>\n",
       "      <td>1</td>\n",
       "      <td>5</td>\n",
       "      <td>1303862400</td>\n",
       "      <td>Good Quality Dog Food</td>\n",
       "      <td>I have bought several of the Vitality canned d...</td>\n",
       "    </tr>\n",
       "    <tr>\n",
       "      <th>1</th>\n",
       "      <td>2</td>\n",
       "      <td>B00813GRG4</td>\n",
       "      <td>A1D87F6ZCVE5NK</td>\n",
       "      <td>dll pa</td>\n",
       "      <td>0</td>\n",
       "      <td>0</td>\n",
       "      <td>1</td>\n",
       "      <td>1346976000</td>\n",
       "      <td>Not as Advertised</td>\n",
       "      <td>Product arrived labeled as Jumbo Salted Peanut...</td>\n",
       "    </tr>\n",
       "    <tr>\n",
       "      <th>2</th>\n",
       "      <td>3</td>\n",
       "      <td>B000LQOCH0</td>\n",
       "      <td>ABXLMWJIXXAIN</td>\n",
       "      <td>Natalia Corres \"Natalia Corres\"</td>\n",
       "      <td>1</td>\n",
       "      <td>1</td>\n",
       "      <td>4</td>\n",
       "      <td>1219017600</td>\n",
       "      <td>\"Delight\" says it all</td>\n",
       "      <td>This is a confection that has been around a fe...</td>\n",
       "    </tr>\n",
       "    <tr>\n",
       "      <th>3</th>\n",
       "      <td>4</td>\n",
       "      <td>B000UA0QIQ</td>\n",
       "      <td>A395BORC6FGVXV</td>\n",
       "      <td>Karl</td>\n",
       "      <td>3</td>\n",
       "      <td>3</td>\n",
       "      <td>2</td>\n",
       "      <td>1307923200</td>\n",
       "      <td>Cough Medicine</td>\n",
       "      <td>If you are looking for the secret ingredient i...</td>\n",
       "    </tr>\n",
       "    <tr>\n",
       "      <th>4</th>\n",
       "      <td>5</td>\n",
       "      <td>B006K2ZZ7K</td>\n",
       "      <td>A1UQRSCLF8GW1T</td>\n",
       "      <td>Michael D. Bigham \"M. Wassir\"</td>\n",
       "      <td>0</td>\n",
       "      <td>0</td>\n",
       "      <td>5</td>\n",
       "      <td>1350777600</td>\n",
       "      <td>Great taffy</td>\n",
       "      <td>Great taffy at a great price.  There was a wid...</td>\n",
       "    </tr>\n",
       "  </tbody>\n",
       "</table>\n",
       "</div>"
      ],
      "text/plain": [
       "   Id   ProductId          UserId                      ProfileName  \\\n",
       "0   1  B001E4KFG0  A3SGXH7AUHU8GW                       delmartian   \n",
       "1   2  B00813GRG4  A1D87F6ZCVE5NK                           dll pa   \n",
       "2   3  B000LQOCH0   ABXLMWJIXXAIN  Natalia Corres \"Natalia Corres\"   \n",
       "3   4  B000UA0QIQ  A395BORC6FGVXV                             Karl   \n",
       "4   5  B006K2ZZ7K  A1UQRSCLF8GW1T    Michael D. Bigham \"M. Wassir\"   \n",
       "\n",
       "   HelpfulnessNumerator  HelpfulnessDenominator  Score        Time  \\\n",
       "0                     1                       1      5  1303862400   \n",
       "1                     0                       0      1  1346976000   \n",
       "2                     1                       1      4  1219017600   \n",
       "3                     3                       3      2  1307923200   \n",
       "4                     0                       0      5  1350777600   \n",
       "\n",
       "                 Summary                                               Text  \n",
       "0  Good Quality Dog Food  I have bought several of the Vitality canned d...  \n",
       "1      Not as Advertised  Product arrived labeled as Jumbo Salted Peanut...  \n",
       "2  \"Delight\" says it all  This is a confection that has been around a fe...  \n",
       "3         Cough Medicine  If you are looking for the secret ingredient i...  \n",
       "4            Great taffy  Great taffy at a great price.  There was a wid...  "
      ]
     },
     "execution_count": 3,
     "metadata": {},
     "output_type": "execute_result"
    }
   ],
   "source": [
    "df.head()"
   ]
  },
  {
   "cell_type": "markdown",
   "id": "a8c11dae",
   "metadata": {},
   "source": [
    "### Selecting Feature as Text"
   ]
  },
  {
   "cell_type": "code",
   "execution_count": 4,
   "id": "c0aa70ad",
   "metadata": {},
   "outputs": [],
   "source": [
    "data=df.Text.to_frame()"
   ]
  },
  {
   "cell_type": "code",
   "execution_count": 5,
   "id": "b47cdd98",
   "metadata": {},
   "outputs": [
    {
     "data": {
      "text/html": [
       "<div>\n",
       "<style scoped>\n",
       "    .dataframe tbody tr th:only-of-type {\n",
       "        vertical-align: middle;\n",
       "    }\n",
       "\n",
       "    .dataframe tbody tr th {\n",
       "        vertical-align: top;\n",
       "    }\n",
       "\n",
       "    .dataframe thead th {\n",
       "        text-align: right;\n",
       "    }\n",
       "</style>\n",
       "<table border=\"1\" class=\"dataframe\">\n",
       "  <thead>\n",
       "    <tr style=\"text-align: right;\">\n",
       "      <th></th>\n",
       "      <th>Text</th>\n",
       "    </tr>\n",
       "  </thead>\n",
       "  <tbody>\n",
       "    <tr>\n",
       "      <th>0</th>\n",
       "      <td>I have bought several of the Vitality canned d...</td>\n",
       "    </tr>\n",
       "    <tr>\n",
       "      <th>1</th>\n",
       "      <td>Product arrived labeled as Jumbo Salted Peanut...</td>\n",
       "    </tr>\n",
       "    <tr>\n",
       "      <th>2</th>\n",
       "      <td>This is a confection that has been around a fe...</td>\n",
       "    </tr>\n",
       "    <tr>\n",
       "      <th>3</th>\n",
       "      <td>If you are looking for the secret ingredient i...</td>\n",
       "    </tr>\n",
       "    <tr>\n",
       "      <th>4</th>\n",
       "      <td>Great taffy at a great price.  There was a wid...</td>\n",
       "    </tr>\n",
       "  </tbody>\n",
       "</table>\n",
       "</div>"
      ],
      "text/plain": [
       "                                                Text\n",
       "0  I have bought several of the Vitality canned d...\n",
       "1  Product arrived labeled as Jumbo Salted Peanut...\n",
       "2  This is a confection that has been around a fe...\n",
       "3  If you are looking for the secret ingredient i...\n",
       "4  Great taffy at a great price.  There was a wid..."
      ]
     },
     "execution_count": 5,
     "metadata": {},
     "output_type": "execute_result"
    }
   ],
   "source": [
    "data.head()"
   ]
  },
  {
   "cell_type": "markdown",
   "id": "0daf7277",
   "metadata": {},
   "source": [
    "### Checking Null Values"
   ]
  },
  {
   "cell_type": "code",
   "execution_count": 6,
   "id": "a41fd68f",
   "metadata": {},
   "outputs": [
    {
     "data": {
      "text/plain": [
       "0"
      ]
     },
     "execution_count": 6,
     "metadata": {},
     "output_type": "execute_result"
    }
   ],
   "source": [
    "import numpy as np\n",
    "# checking null values\n",
    "np.sum(data['Text'].isnull())"
   ]
  },
  {
   "cell_type": "markdown",
   "id": "f594a7ec",
   "metadata": {},
   "source": [
    "## Data Preprocessing"
   ]
  },
  {
   "cell_type": "code",
   "execution_count": 7,
   "id": "c0b2e251",
   "metadata": {},
   "outputs": [
    {
     "name": "stderr",
     "output_type": "stream",
     "text": [
      "[nltk_data] Downloading package stopwords to\n",
      "[nltk_data]     C:\\Users\\divesh\\AppData\\Roaming\\nltk_data...\n",
      "[nltk_data]   Package stopwords is already up-to-date!\n",
      "[nltk_data] Downloading package punkt to\n",
      "[nltk_data]     C:\\Users\\divesh\\AppData\\Roaming\\nltk_data...\n",
      "[nltk_data]   Package punkt is already up-to-date!\n",
      "[nltk_data] Downloading package vader_lexicon to\n",
      "[nltk_data]     C:\\Users\\divesh\\AppData\\Roaming\\nltk_data...\n",
      "[nltk_data]   Package vader_lexicon is already up-to-date!\n"
     ]
    },
    {
     "data": {
      "text/plain": [
       "True"
      ]
     },
     "execution_count": 7,
     "metadata": {},
     "output_type": "execute_result"
    }
   ],
   "source": [
    "# Download NLTK resources\n",
    "nltk.download('stopwords')\n",
    "nltk.download('punkt')\n",
    "nltk.download('vader_lexicon')"
   ]
  },
  {
   "cell_type": "code",
   "execution_count": 8,
   "id": "8e386a1c",
   "metadata": {},
   "outputs": [],
   "source": [
    "# Load stop words\n",
    "stop_words = set(stopwords.words('english'))"
   ]
  },
  {
   "cell_type": "code",
   "execution_count": 9,
   "id": "88a29edb",
   "metadata": {},
   "outputs": [],
   "source": [
    "# Preprocess text data\n",
    "data['Text'] = data['Text'].apply(lambda x: x.lower())  # Convert text to lowercase\n",
    "data['Text'] = data['Text'].apply(lambda x: word_tokenize(x))  # Tokenize text\n",
    "data['Text'] = data['Text'].apply(lambda x: [word for word in x if word not in stop_words])  # Remove stop words\n",
    "data['Text'] = data['Text'].apply(lambda x: ' '.join(x))  # Join filtered tokens back into a string"
   ]
  },
  {
   "cell_type": "markdown",
   "id": "65164b4b",
   "metadata": {},
   "source": [
    "# Applying Polarity to extract positive,negative,nuetral values"
   ]
  },
  {
   "cell_type": "code",
   "execution_count": 10,
   "id": "d1160844",
   "metadata": {},
   "outputs": [],
   "source": [
    "# Apply polarity analysis to preprocessed reviews\n",
    "sia = SentimentIntensityAnalyzer()\n",
    "data['sentiment_scores'] = data['Text'].apply(lambda x: sia.polarity_scores(x))  # Apply polarity analysis"
   ]
  },
  {
   "cell_type": "code",
   "execution_count": 11,
   "id": "a45db2ef",
   "metadata": {},
   "outputs": [],
   "source": [
    "# Extract polarity scores\n",
    "data['neg_score'] = data['sentiment_scores'].apply(lambda x: x['neg'])\n",
    "data['neu_score'] = data['sentiment_scores'].apply(lambda x: x['neu'])\n",
    "data['pos_score'] = data['sentiment_scores'].apply(lambda x: x['pos'])\n",
    "data['compound_score'] = data['sentiment_scores'].apply(lambda x: x['compound'])"
   ]
  },
  {
   "cell_type": "code",
   "execution_count": 12,
   "id": "31c288dc",
   "metadata": {},
   "outputs": [],
   "source": [
    "# Convert polarity scores to target values\n",
    "data['target'] = data[['neg_score', 'neu_score', 'pos_score']].idxmax(axis=1)\n",
    "data['target'] = data['target'].apply(lambda x: 'positive' if x == 'pos_score' else ('negative' if x == 'neg_score' else 'neutral'))"
   ]
  },
  {
   "cell_type": "code",
   "execution_count": 23,
   "id": "bc63b85e",
   "metadata": {},
   "outputs": [
    {
     "data": {
      "text/html": [
       "<div>\n",
       "<style scoped>\n",
       "    .dataframe tbody tr th:only-of-type {\n",
       "        vertical-align: middle;\n",
       "    }\n",
       "\n",
       "    .dataframe tbody tr th {\n",
       "        vertical-align: top;\n",
       "    }\n",
       "\n",
       "    .dataframe thead th {\n",
       "        text-align: right;\n",
       "    }\n",
       "</style>\n",
       "<table border=\"1\" class=\"dataframe\">\n",
       "  <thead>\n",
       "    <tr style=\"text-align: right;\">\n",
       "      <th></th>\n",
       "      <th>Text</th>\n",
       "      <th>sentiment_scores</th>\n",
       "      <th>neg_score</th>\n",
       "      <th>neu_score</th>\n",
       "      <th>pos_score</th>\n",
       "      <th>compound_score</th>\n",
       "      <th>target</th>\n",
       "    </tr>\n",
       "  </thead>\n",
       "  <tbody>\n",
       "    <tr>\n",
       "      <th>4</th>\n",
       "      <td>great taffy great price . wide assortment yumm...</td>\n",
       "      <td>{'neg': 0.0, 'neu': 0.369, 'pos': 0.631, 'comp...</td>\n",
       "      <td>0.000</td>\n",
       "      <td>0.369</td>\n",
       "      <td>0.631</td>\n",
       "      <td>0.9468</td>\n",
       "      <td>positive</td>\n",
       "    </tr>\n",
       "    <tr>\n",
       "      <th>7</th>\n",
       "      <td>taffy good . soft chewy . flavors amazing . wo...</td>\n",
       "      <td>{'neg': 0.0, 'neu': 0.279, 'pos': 0.721, 'comp...</td>\n",
       "      <td>0.000</td>\n",
       "      <td>0.279</td>\n",
       "      <td>0.721</td>\n",
       "      <td>0.9380</td>\n",
       "      <td>positive</td>\n",
       "    </tr>\n",
       "    <tr>\n",
       "      <th>13</th>\n",
       "      <td>good flavor ! came securely packed ... fresh d...</td>\n",
       "      <td>{'neg': 0.0, 'neu': 0.234, 'pos': 0.766, 'comp...</td>\n",
       "      <td>0.000</td>\n",
       "      <td>0.234</td>\n",
       "      <td>0.766</td>\n",
       "      <td>0.9466</td>\n",
       "      <td>positive</td>\n",
       "    </tr>\n",
       "    <tr>\n",
       "      <th>14</th>\n",
       "      <td>strawberry twizzlers guilty pleasure - yummy ....</td>\n",
       "      <td>{'neg': 0.176, 'neu': 0.377, 'pos': 0.447, 'co...</td>\n",
       "      <td>0.176</td>\n",
       "      <td>0.377</td>\n",
       "      <td>0.447</td>\n",
       "      <td>0.6486</td>\n",
       "      <td>positive</td>\n",
       "    </tr>\n",
       "    <tr>\n",
       "      <th>16</th>\n",
       "      <td>love eating good watching tv looking movies ! ...</td>\n",
       "      <td>{'neg': 0.0, 'neu': 0.461, 'pos': 0.539, 'comp...</td>\n",
       "      <td>0.000</td>\n",
       "      <td>0.461</td>\n",
       "      <td>0.539</td>\n",
       "      <td>0.9348</td>\n",
       "      <td>positive</td>\n",
       "    </tr>\n",
       "  </tbody>\n",
       "</table>\n",
       "</div>"
      ],
      "text/plain": [
       "                                                 Text  \\\n",
       "4   great taffy great price . wide assortment yumm...   \n",
       "7   taffy good . soft chewy . flavors amazing . wo...   \n",
       "13  good flavor ! came securely packed ... fresh d...   \n",
       "14  strawberry twizzlers guilty pleasure - yummy ....   \n",
       "16  love eating good watching tv looking movies ! ...   \n",
       "\n",
       "                                     sentiment_scores  neg_score  neu_score  \\\n",
       "4   {'neg': 0.0, 'neu': 0.369, 'pos': 0.631, 'comp...      0.000      0.369   \n",
       "7   {'neg': 0.0, 'neu': 0.279, 'pos': 0.721, 'comp...      0.000      0.279   \n",
       "13  {'neg': 0.0, 'neu': 0.234, 'pos': 0.766, 'comp...      0.000      0.234   \n",
       "14  {'neg': 0.176, 'neu': 0.377, 'pos': 0.447, 'co...      0.176      0.377   \n",
       "16  {'neg': 0.0, 'neu': 0.461, 'pos': 0.539, 'comp...      0.000      0.461   \n",
       "\n",
       "    pos_score  compound_score    target  \n",
       "4       0.631          0.9468  positive  \n",
       "7       0.721          0.9380  positive  \n",
       "13      0.766          0.9466  positive  \n",
       "14      0.447          0.6486  positive  \n",
       "16      0.539          0.9348  positive  "
      ]
     },
     "execution_count": 23,
     "metadata": {},
     "output_type": "execute_result"
    }
   ],
   "source": [
    "data.head()"
   ]
  },
  {
   "cell_type": "code",
   "execution_count": 24,
   "id": "3e91bf03",
   "metadata": {},
   "outputs": [],
   "source": [
    "# Extract positive and negative reviews\n",
    "data = data[(data['target'] == 'positive') | (data['target'] == 'negative')]"
   ]
  },
  {
   "cell_type": "code",
   "execution_count": 25,
   "id": "ac4ffdd6",
   "metadata": {},
   "outputs": [
    {
     "data": {
      "text/html": [
       "<div>\n",
       "<style scoped>\n",
       "    .dataframe tbody tr th:only-of-type {\n",
       "        vertical-align: middle;\n",
       "    }\n",
       "\n",
       "    .dataframe tbody tr th {\n",
       "        vertical-align: top;\n",
       "    }\n",
       "\n",
       "    .dataframe thead th {\n",
       "        text-align: right;\n",
       "    }\n",
       "</style>\n",
       "<table border=\"1\" class=\"dataframe\">\n",
       "  <thead>\n",
       "    <tr style=\"text-align: right;\">\n",
       "      <th></th>\n",
       "      <th>Text</th>\n",
       "      <th>sentiment_scores</th>\n",
       "      <th>neg_score</th>\n",
       "      <th>neu_score</th>\n",
       "      <th>pos_score</th>\n",
       "      <th>compound_score</th>\n",
       "      <th>target</th>\n",
       "    </tr>\n",
       "  </thead>\n",
       "  <tbody>\n",
       "    <tr>\n",
       "      <th>4</th>\n",
       "      <td>great taffy great price . wide assortment yumm...</td>\n",
       "      <td>{'neg': 0.0, 'neu': 0.369, 'pos': 0.631, 'comp...</td>\n",
       "      <td>0.000</td>\n",
       "      <td>0.369</td>\n",
       "      <td>0.631</td>\n",
       "      <td>0.9468</td>\n",
       "      <td>positive</td>\n",
       "    </tr>\n",
       "    <tr>\n",
       "      <th>7</th>\n",
       "      <td>taffy good . soft chewy . flavors amazing . wo...</td>\n",
       "      <td>{'neg': 0.0, 'neu': 0.279, 'pos': 0.721, 'comp...</td>\n",
       "      <td>0.000</td>\n",
       "      <td>0.279</td>\n",
       "      <td>0.721</td>\n",
       "      <td>0.9380</td>\n",
       "      <td>positive</td>\n",
       "    </tr>\n",
       "    <tr>\n",
       "      <th>13</th>\n",
       "      <td>good flavor ! came securely packed ... fresh d...</td>\n",
       "      <td>{'neg': 0.0, 'neu': 0.234, 'pos': 0.766, 'comp...</td>\n",
       "      <td>0.000</td>\n",
       "      <td>0.234</td>\n",
       "      <td>0.766</td>\n",
       "      <td>0.9466</td>\n",
       "      <td>positive</td>\n",
       "    </tr>\n",
       "    <tr>\n",
       "      <th>14</th>\n",
       "      <td>strawberry twizzlers guilty pleasure - yummy ....</td>\n",
       "      <td>{'neg': 0.176, 'neu': 0.377, 'pos': 0.447, 'co...</td>\n",
       "      <td>0.176</td>\n",
       "      <td>0.377</td>\n",
       "      <td>0.447</td>\n",
       "      <td>0.6486</td>\n",
       "      <td>positive</td>\n",
       "    </tr>\n",
       "    <tr>\n",
       "      <th>16</th>\n",
       "      <td>love eating good watching tv looking movies ! ...</td>\n",
       "      <td>{'neg': 0.0, 'neu': 0.461, 'pos': 0.539, 'comp...</td>\n",
       "      <td>0.000</td>\n",
       "      <td>0.461</td>\n",
       "      <td>0.539</td>\n",
       "      <td>0.9348</td>\n",
       "      <td>positive</td>\n",
       "    </tr>\n",
       "    <tr>\n",
       "      <th>...</th>\n",
       "      <td>...</td>\n",
       "      <td>...</td>\n",
       "      <td>...</td>\n",
       "      <td>...</td>\n",
       "      <td>...</td>\n",
       "      <td>...</td>\n",
       "      <td>...</td>\n",
       "    </tr>\n",
       "    <tr>\n",
       "      <th>568417</th>\n",
       "      <td>best brand mango chutney able buy enjoy .</td>\n",
       "      <td>{'neg': 0.0, 'neu': 0.403, 'pos': 0.597, 'comp...</td>\n",
       "      <td>0.000</td>\n",
       "      <td>0.403</td>\n",
       "      <td>0.597</td>\n",
       "      <td>0.8126</td>\n",
       "      <td>positive</td>\n",
       "    </tr>\n",
       "    <tr>\n",
       "      <th>568428</th>\n",
       "      <td>pricey enjoy treat flavor wonderfull packaging...</td>\n",
       "      <td>{'neg': 0.0, 'neu': 0.363, 'pos': 0.637, 'comp...</td>\n",
       "      <td>0.000</td>\n",
       "      <td>0.363</td>\n",
       "      <td>0.637</td>\n",
       "      <td>0.9674</td>\n",
       "      <td>positive</td>\n",
       "    </tr>\n",
       "    <tr>\n",
       "      <th>568442</th>\n",
       "      <td>product great . gives much energy tastes great...</td>\n",
       "      <td>{'neg': 0.145, 'neu': 0.374, 'pos': 0.481, 'co...</td>\n",
       "      <td>0.145</td>\n",
       "      <td>0.374</td>\n",
       "      <td>0.481</td>\n",
       "      <td>0.8020</td>\n",
       "      <td>positive</td>\n",
       "    </tr>\n",
       "    <tr>\n",
       "      <th>568449</th>\n",
       "      <td>great sesame chicken .. good better resturants...</td>\n",
       "      <td>{'neg': 0.0, 'neu': 0.465, 'pos': 0.535, 'comp...</td>\n",
       "      <td>0.000</td>\n",
       "      <td>0.465</td>\n",
       "      <td>0.535</td>\n",
       "      <td>0.9300</td>\n",
       "      <td>positive</td>\n",
       "    </tr>\n",
       "    <tr>\n",
       "      <th>568452</th>\n",
       "      <td>best treats training rewarding dog good groomi...</td>\n",
       "      <td>{'neg': 0.062, 'neu': 0.281, 'pos': 0.657, 'co...</td>\n",
       "      <td>0.062</td>\n",
       "      <td>0.281</td>\n",
       "      <td>0.657</td>\n",
       "      <td>0.9690</td>\n",
       "      <td>positive</td>\n",
       "    </tr>\n",
       "  </tbody>\n",
       "</table>\n",
       "<p>70033 rows × 7 columns</p>\n",
       "</div>"
      ],
      "text/plain": [
       "                                                     Text  \\\n",
       "4       great taffy great price . wide assortment yumm...   \n",
       "7       taffy good . soft chewy . flavors amazing . wo...   \n",
       "13      good flavor ! came securely packed ... fresh d...   \n",
       "14      strawberry twizzlers guilty pleasure - yummy ....   \n",
       "16      love eating good watching tv looking movies ! ...   \n",
       "...                                                   ...   \n",
       "568417          best brand mango chutney able buy enjoy .   \n",
       "568428  pricey enjoy treat flavor wonderfull packaging...   \n",
       "568442  product great . gives much energy tastes great...   \n",
       "568449  great sesame chicken .. good better resturants...   \n",
       "568452  best treats training rewarding dog good groomi...   \n",
       "\n",
       "                                         sentiment_scores  neg_score  \\\n",
       "4       {'neg': 0.0, 'neu': 0.369, 'pos': 0.631, 'comp...      0.000   \n",
       "7       {'neg': 0.0, 'neu': 0.279, 'pos': 0.721, 'comp...      0.000   \n",
       "13      {'neg': 0.0, 'neu': 0.234, 'pos': 0.766, 'comp...      0.000   \n",
       "14      {'neg': 0.176, 'neu': 0.377, 'pos': 0.447, 'co...      0.176   \n",
       "16      {'neg': 0.0, 'neu': 0.461, 'pos': 0.539, 'comp...      0.000   \n",
       "...                                                   ...        ...   \n",
       "568417  {'neg': 0.0, 'neu': 0.403, 'pos': 0.597, 'comp...      0.000   \n",
       "568428  {'neg': 0.0, 'neu': 0.363, 'pos': 0.637, 'comp...      0.000   \n",
       "568442  {'neg': 0.145, 'neu': 0.374, 'pos': 0.481, 'co...      0.145   \n",
       "568449  {'neg': 0.0, 'neu': 0.465, 'pos': 0.535, 'comp...      0.000   \n",
       "568452  {'neg': 0.062, 'neu': 0.281, 'pos': 0.657, 'co...      0.062   \n",
       "\n",
       "        neu_score  pos_score  compound_score    target  \n",
       "4           0.369      0.631          0.9468  positive  \n",
       "7           0.279      0.721          0.9380  positive  \n",
       "13          0.234      0.766          0.9466  positive  \n",
       "14          0.377      0.447          0.6486  positive  \n",
       "16          0.461      0.539          0.9348  positive  \n",
       "...           ...        ...             ...       ...  \n",
       "568417      0.403      0.597          0.8126  positive  \n",
       "568428      0.363      0.637          0.9674  positive  \n",
       "568442      0.374      0.481          0.8020  positive  \n",
       "568449      0.465      0.535          0.9300  positive  \n",
       "568452      0.281      0.657          0.9690  positive  \n",
       "\n",
       "[70033 rows x 7 columns]"
      ]
     },
     "execution_count": 25,
     "metadata": {},
     "output_type": "execute_result"
    }
   ],
   "source": [
    "data"
   ]
  },
  {
   "cell_type": "code",
   "execution_count": 26,
   "id": "31cbd8ef",
   "metadata": {},
   "outputs": [
    {
     "data": {
      "text/plain": [
       "positive    69187\n",
       "negative      846\n",
       "Name: target, dtype: int64"
      ]
     },
     "execution_count": 26,
     "metadata": {},
     "output_type": "execute_result"
    }
   ],
   "source": [
    "data['target'].value_counts()"
   ]
  },
  {
   "cell_type": "markdown",
   "id": "636c9997",
   "metadata": {},
   "source": [
    "## Creating final DataFrame"
   ]
  },
  {
   "cell_type": "code",
   "execution_count": 27,
   "id": "1b450c10",
   "metadata": {},
   "outputs": [],
   "source": [
    "a=data[data['target']=='positive'][:800]\n",
    "b=data[data['target']=='negative'][:800]"
   ]
  },
  {
   "cell_type": "code",
   "execution_count": 28,
   "id": "67bbf9f2",
   "metadata": {},
   "outputs": [],
   "source": [
    "final=pd.concat([a,b])"
   ]
  },
  {
   "cell_type": "code",
   "execution_count": 29,
   "id": "288e5a6a",
   "metadata": {},
   "outputs": [
    {
     "data": {
      "text/plain": [
       "positive    800\n",
       "negative    800\n",
       "Name: target, dtype: int64"
      ]
     },
     "execution_count": 29,
     "metadata": {},
     "output_type": "execute_result"
    }
   ],
   "source": [
    "final['target'].value_counts()"
   ]
  },
  {
   "cell_type": "code",
   "execution_count": 30,
   "id": "0464748d",
   "metadata": {},
   "outputs": [],
   "source": [
    "from sklearn.metrics import confusion_matrix, classification_report\n",
    "from sklearn.metrics import accuracy_score\n",
    "from sklearn.model_selection import train_test_split"
   ]
  },
  {
   "cell_type": "markdown",
   "id": "eb301be5",
   "metadata": {},
   "source": [
    "# Word embedding techniques"
   ]
  },
  {
   "cell_type": "code",
   "execution_count": 31,
   "id": "1a5bf953",
   "metadata": {},
   "outputs": [],
   "source": [
    "from sklearn.feature_extraction.text import CountVectorizer\n",
    "cv = CountVectorizer(max_features = 2500)\n",
    "X = cv.fit_transform(final['Text'])"
   ]
  },
  {
   "cell_type": "code",
   "execution_count": 33,
   "id": "5e431202",
   "metadata": {},
   "outputs": [],
   "source": [
    "import pickle\n",
    "with open('../model/cv.pkl', 'wb') as f:\n",
    "    pickle.dump(cv, f)"
   ]
  },
  {
   "cell_type": "markdown",
   "id": "e850f266",
   "metadata": {},
   "source": [
    "## Encoding the labels"
   ]
  },
  {
   "cell_type": "code",
   "execution_count": 34,
   "id": "671c6e3a",
   "metadata": {},
   "outputs": [],
   "source": [
    "from sklearn.preprocessing import LabelEncoder\n",
    "labelencoder = LabelEncoder()\n",
    "final['target'] = labelencoder.fit_transform(final['target'])"
   ]
  },
  {
   "cell_type": "code",
   "execution_count": 35,
   "id": "4270d20e",
   "metadata": {},
   "outputs": [
    {
     "data": {
      "text/plain": [
       "1    800\n",
       "0    800\n",
       "Name: target, dtype: int64"
      ]
     },
     "execution_count": 35,
     "metadata": {},
     "output_type": "execute_result"
    }
   ],
   "source": [
    "final['target'].value_counts()"
   ]
  },
  {
   "cell_type": "code",
   "execution_count": 36,
   "id": "13a45ece",
   "metadata": {},
   "outputs": [],
   "source": [
    "with open('../model/labelencoder.pkl', 'wb') as f:\n",
    "    pickle.dump(labelencoder, f)"
   ]
  },
  {
   "cell_type": "code",
   "execution_count": 37,
   "id": "70b11508",
   "metadata": {},
   "outputs": [],
   "source": [
    "y = final['target']"
   ]
  },
  {
   "cell_type": "markdown",
   "id": "d0226a86",
   "metadata": {},
   "source": [
    "## Splitting the data into train and test"
   ]
  },
  {
   "cell_type": "code",
   "execution_count": 38,
   "id": "fcdc3399",
   "metadata": {},
   "outputs": [],
   "source": [
    "X_train, X_test, y_train, y_test = train_test_split(X, y, test_size= 0.3, random_state= 41)"
   ]
  },
  {
   "cell_type": "code",
   "execution_count": 39,
   "id": "2e55fda2",
   "metadata": {},
   "outputs": [
    {
     "data": {
      "text/plain": [
       "(1120, 2500)"
      ]
     },
     "execution_count": 39,
     "metadata": {},
     "output_type": "execute_result"
    }
   ],
   "source": [
    "X_train.shape"
   ]
  },
  {
   "cell_type": "code",
   "execution_count": 40,
   "id": "a7b8c205",
   "metadata": {},
   "outputs": [
    {
     "data": {
      "text/plain": [
       "(1120,)"
      ]
     },
     "execution_count": 40,
     "metadata": {},
     "output_type": "execute_result"
    }
   ],
   "source": [
    "y_train.shape"
   ]
  },
  {
   "cell_type": "markdown",
   "id": "810c4eb2",
   "metadata": {},
   "source": [
    "# Applying the Xgboost model"
   ]
  },
  {
   "cell_type": "code",
   "execution_count": 41,
   "id": "47b58705",
   "metadata": {},
   "outputs": [
    {
     "data": {
      "text/html": [
       "<style>#sk-container-id-1 {color: black;background-color: white;}#sk-container-id-1 pre{padding: 0;}#sk-container-id-1 div.sk-toggleable {background-color: white;}#sk-container-id-1 label.sk-toggleable__label {cursor: pointer;display: block;width: 100%;margin-bottom: 0;padding: 0.3em;box-sizing: border-box;text-align: center;}#sk-container-id-1 label.sk-toggleable__label-arrow:before {content: \"▸\";float: left;margin-right: 0.25em;color: #696969;}#sk-container-id-1 label.sk-toggleable__label-arrow:hover:before {color: black;}#sk-container-id-1 div.sk-estimator:hover label.sk-toggleable__label-arrow:before {color: black;}#sk-container-id-1 div.sk-toggleable__content {max-height: 0;max-width: 0;overflow: hidden;text-align: left;background-color: #f0f8ff;}#sk-container-id-1 div.sk-toggleable__content pre {margin: 0.2em;color: black;border-radius: 0.25em;background-color: #f0f8ff;}#sk-container-id-1 input.sk-toggleable__control:checked~div.sk-toggleable__content {max-height: 200px;max-width: 100%;overflow: auto;}#sk-container-id-1 input.sk-toggleable__control:checked~label.sk-toggleable__label-arrow:before {content: \"▾\";}#sk-container-id-1 div.sk-estimator input.sk-toggleable__control:checked~label.sk-toggleable__label {background-color: #d4ebff;}#sk-container-id-1 div.sk-label input.sk-toggleable__control:checked~label.sk-toggleable__label {background-color: #d4ebff;}#sk-container-id-1 input.sk-hidden--visually {border: 0;clip: rect(1px 1px 1px 1px);clip: rect(1px, 1px, 1px, 1px);height: 1px;margin: -1px;overflow: hidden;padding: 0;position: absolute;width: 1px;}#sk-container-id-1 div.sk-estimator {font-family: monospace;background-color: #f0f8ff;border: 1px dotted black;border-radius: 0.25em;box-sizing: border-box;margin-bottom: 0.5em;}#sk-container-id-1 div.sk-estimator:hover {background-color: #d4ebff;}#sk-container-id-1 div.sk-parallel-item::after {content: \"\";width: 100%;border-bottom: 1px solid gray;flex-grow: 1;}#sk-container-id-1 div.sk-label:hover label.sk-toggleable__label {background-color: #d4ebff;}#sk-container-id-1 div.sk-serial::before {content: \"\";position: absolute;border-left: 1px solid gray;box-sizing: border-box;top: 0;bottom: 0;left: 50%;z-index: 0;}#sk-container-id-1 div.sk-serial {display: flex;flex-direction: column;align-items: center;background-color: white;padding-right: 0.2em;padding-left: 0.2em;position: relative;}#sk-container-id-1 div.sk-item {position: relative;z-index: 1;}#sk-container-id-1 div.sk-parallel {display: flex;align-items: stretch;justify-content: center;background-color: white;position: relative;}#sk-container-id-1 div.sk-item::before, #sk-container-id-1 div.sk-parallel-item::before {content: \"\";position: absolute;border-left: 1px solid gray;box-sizing: border-box;top: 0;bottom: 0;left: 50%;z-index: -1;}#sk-container-id-1 div.sk-parallel-item {display: flex;flex-direction: column;z-index: 1;position: relative;background-color: white;}#sk-container-id-1 div.sk-parallel-item:first-child::after {align-self: flex-end;width: 50%;}#sk-container-id-1 div.sk-parallel-item:last-child::after {align-self: flex-start;width: 50%;}#sk-container-id-1 div.sk-parallel-item:only-child::after {width: 0;}#sk-container-id-1 div.sk-dashed-wrapped {border: 1px dashed gray;margin: 0 0.4em 0.5em 0.4em;box-sizing: border-box;padding-bottom: 0.4em;background-color: white;}#sk-container-id-1 div.sk-label label {font-family: monospace;font-weight: bold;display: inline-block;line-height: 1.2em;}#sk-container-id-1 div.sk-label-container {text-align: center;}#sk-container-id-1 div.sk-container {/* jupyter's `normalize.less` sets `[hidden] { display: none; }` but bootstrap.min.css set `[hidden] { display: none !important; }` so we also need the `!important` here to be able to override the default hidden behavior on the sphinx rendered scikit-learn.org. See: https://github.com/scikit-learn/scikit-learn/issues/21755 */display: inline-block !important;position: relative;}#sk-container-id-1 div.sk-text-repr-fallback {display: none;}</style><div id=\"sk-container-id-1\" class=\"sk-top-container\"><div class=\"sk-text-repr-fallback\"><pre>XGBClassifier(base_score=None, booster=None, callbacks=None,\n",
       "              colsample_bylevel=None, colsample_bynode=None,\n",
       "              colsample_bytree=None, early_stopping_rounds=None,\n",
       "              enable_categorical=False, eval_metric=None, feature_types=None,\n",
       "              gamma=None, gpu_id=None, grow_policy=None, importance_type=None,\n",
       "              interaction_constraints=None, learning_rate=None, max_bin=None,\n",
       "              max_cat_threshold=None, max_cat_to_onehot=None,\n",
       "              max_delta_step=None, max_depth=None, max_leaves=None,\n",
       "              min_child_weight=None, missing=nan, monotone_constraints=None,\n",
       "              n_estimators=100, n_jobs=None, num_parallel_tree=None,\n",
       "              predictor=None, random_state=None, ...)</pre><b>In a Jupyter environment, please rerun this cell to show the HTML representation or trust the notebook. <br />On GitHub, the HTML representation is unable to render, please try loading this page with nbviewer.org.</b></div><div class=\"sk-container\" hidden><div class=\"sk-item\"><div class=\"sk-estimator sk-toggleable\"><input class=\"sk-toggleable__control sk-hidden--visually\" id=\"sk-estimator-id-1\" type=\"checkbox\" checked><label for=\"sk-estimator-id-1\" class=\"sk-toggleable__label sk-toggleable__label-arrow\">XGBClassifier</label><div class=\"sk-toggleable__content\"><pre>XGBClassifier(base_score=None, booster=None, callbacks=None,\n",
       "              colsample_bylevel=None, colsample_bynode=None,\n",
       "              colsample_bytree=None, early_stopping_rounds=None,\n",
       "              enable_categorical=False, eval_metric=None, feature_types=None,\n",
       "              gamma=None, gpu_id=None, grow_policy=None, importance_type=None,\n",
       "              interaction_constraints=None, learning_rate=None, max_bin=None,\n",
       "              max_cat_threshold=None, max_cat_to_onehot=None,\n",
       "              max_delta_step=None, max_depth=None, max_leaves=None,\n",
       "              min_child_weight=None, missing=nan, monotone_constraints=None,\n",
       "              n_estimators=100, n_jobs=None, num_parallel_tree=None,\n",
       "              predictor=None, random_state=None, ...)</pre></div></div></div></div></div>"
      ],
      "text/plain": [
       "XGBClassifier(base_score=None, booster=None, callbacks=None,\n",
       "              colsample_bylevel=None, colsample_bynode=None,\n",
       "              colsample_bytree=None, early_stopping_rounds=None,\n",
       "              enable_categorical=False, eval_metric=None, feature_types=None,\n",
       "              gamma=None, gpu_id=None, grow_policy=None, importance_type=None,\n",
       "              interaction_constraints=None, learning_rate=None, max_bin=None,\n",
       "              max_cat_threshold=None, max_cat_to_onehot=None,\n",
       "              max_delta_step=None, max_depth=None, max_leaves=None,\n",
       "              min_child_weight=None, missing=nan, monotone_constraints=None,\n",
       "              n_estimators=100, n_jobs=None, num_parallel_tree=None,\n",
       "              predictor=None, random_state=None, ...)"
      ]
     },
     "execution_count": 41,
     "metadata": {},
     "output_type": "execute_result"
    }
   ],
   "source": [
    "import xgboost as xgb\n",
    "from sklearn.model_selection import GridSearchCV\n",
    "# Create an XGBoost model\n",
    "model = xgb.XGBClassifier()\n",
    "model.fit(X_train, y_train)"
   ]
  },
  {
   "cell_type": "markdown",
   "id": "fd63339e",
   "metadata": {},
   "source": [
    "###  finding accuracy score"
   ]
  },
  {
   "cell_type": "code",
   "execution_count": 42,
   "id": "f22c8c46",
   "metadata": {},
   "outputs": [],
   "source": [
    "pred_xg = model.predict(X_test)\n",
    "score = accuracy_score(y_test, pred_xg)"
   ]
  },
  {
   "cell_type": "code",
   "execution_count": 43,
   "id": "d6a46595",
   "metadata": {},
   "outputs": [
    {
     "name": "stdout",
     "output_type": "stream",
     "text": [
      "0.9104166666666667\n"
     ]
    }
   ],
   "source": [
    "print(score)"
   ]
  },
  {
   "cell_type": "markdown",
   "id": "1ff46f2a",
   "metadata": {},
   "source": [
    "# Confusion Matrix"
   ]
  },
  {
   "cell_type": "code",
   "execution_count": 44,
   "id": "513be8b9",
   "metadata": {},
   "outputs": [
    {
     "data": {
      "image/png": "[encoded data removed]",
      "text/plain": [
       "<Figure size 432x288 with 2 Axes>"
      ]
     },
     "metadata": {
      "needs_background": "light"
     },
     "output_type": "display_data"
    }
   ],
   "source": [
    "import seaborn as sns\n",
    "import matplotlib.pyplot as plt\n",
    "from sklearn.metrics import confusion_matrix\n",
    "cf_matrix = confusion_matrix(y_test,pred_xg)\n",
    "ax = sns.heatmap(cf_matrix, annot=True, cmap='BuGn',fmt='0.0f')\n",
    "ax.set_title('Seaborn Confusion Matrix with labels\\n\\n');\n",
    "ax.set_xlabel('\\nPredicted Values')\n",
    "ax.set_ylabel('Actual Values');\n",
    "plt.show()"
   ]
  },
  {
   "cell_type": "markdown",
   "id": "b315343f",
   "metadata": {},
   "source": [
    "# Classification Report"
   ]
  },
  {
   "cell_type": "code",
   "execution_count": 45,
   "id": "00fb11bf",
   "metadata": {},
   "outputs": [
    {
     "name": "stdout",
     "output_type": "stream",
     "text": [
      "              precision    recall  f1-score   support\n",
      "\n",
      "           0       0.90      0.94      0.92       251\n",
      "           1       0.93      0.88      0.90       229\n",
      "\n",
      "    accuracy                           0.91       480\n",
      "   macro avg       0.91      0.91      0.91       480\n",
      "weighted avg       0.91      0.91      0.91       480\n",
      "\n"
     ]
    }
   ],
   "source": [
    "print(classification_report(y_test, pred_xg))"
   ]
  },
  {
   "cell_type": "markdown",
   "id": "3297ddc4",
   "metadata": {},
   "source": [
    "# Applying the Navi Bayes model"
   ]
  },
  {
   "cell_type": "code",
   "execution_count": 46,
   "id": "62b5a1a9",
   "metadata": {},
   "outputs": [],
   "source": [
    "from sklearn.naive_bayes import MultinomialNB\n",
    "classifier=MultinomialNB(alpha=0.001)"
   ]
  },
  {
   "cell_type": "markdown",
   "id": "30d0c01e",
   "metadata": {},
   "source": [
    "### finding accuracy score"
   ]
  },
  {
   "cell_type": "code",
   "execution_count": 47,
   "id": "0dacd5f8",
   "metadata": {},
   "outputs": [],
   "source": [
    "classifier.fit(X_train, y_train)\n",
    "pred = classifier.predict(X_test)\n",
    "score = accuracy_score(y_test, pred)"
   ]
  },
  {
   "cell_type": "code",
   "execution_count": 48,
   "id": "0ba27fa1",
   "metadata": {},
   "outputs": [
    {
     "name": "stdout",
     "output_type": "stream",
     "text": [
      "0.8854166666666666\n"
     ]
    }
   ],
   "source": [
    "print(score)"
   ]
  },
  {
   "cell_type": "markdown",
   "id": "124af426",
   "metadata": {},
   "source": [
    "# confusion matrix"
   ]
  },
  {
   "cell_type": "code",
   "execution_count": 49,
   "id": "1389626b",
   "metadata": {},
   "outputs": [
    {
     "data": {
      "image/png": "[encoded data removed]",
      "text/plain": [
       "<Figure size 432x288 with 2 Axes>"
      ]
     },
     "metadata": {
      "needs_background": "light"
     },
     "output_type": "display_data"
    }
   ],
   "source": [
    "import seaborn as sns\n",
    "from sklearn.metrics import confusion_matrix\n",
    "cf_matrix = confusion_matrix(y_test,pred)\n",
    "ax = sns.heatmap(cf_matrix, annot=True, cmap='BuGn',fmt='0.0f')\n",
    "ax.set_title('Seaborn Confusion Matrix with labels\\n\\n');\n",
    "ax.set_xlabel('\\nPredicted Values')\n",
    "ax.set_ylabel('Actual Values');\n",
    "plt.show()"
   ]
  },
  {
   "cell_type": "markdown",
   "id": "e7cb2d00",
   "metadata": {},
   "source": [
    "# classification report"
   ]
  },
  {
   "cell_type": "code",
   "execution_count": 50,
   "id": "f284b9a0",
   "metadata": {
    "scrolled": true
   },
   "outputs": [
    {
     "name": "stdout",
     "output_type": "stream",
     "text": [
      "              precision    recall  f1-score   support\n",
      "\n",
      "           0       0.91      0.87      0.89       251\n",
      "           1       0.86      0.90      0.88       229\n",
      "\n",
      "    accuracy                           0.89       480\n",
      "   macro avg       0.89      0.89      0.89       480\n",
      "weighted avg       0.89      0.89      0.89       480\n",
      "\n"
     ]
    }
   ],
   "source": [
    "# classification report for navie bayes\n",
    "print(classification_report(y_test, pred))"
   ]
  },
  {
   "cell_type": "markdown",
   "id": "12a167d2",
   "metadata": {},
   "source": [
    "## Ada Booast"
   ]
  },
  {
   "cell_type": "code",
   "execution_count": 51,
   "id": "c4f42e23",
   "metadata": {},
   "outputs": [
    {
     "data": {
      "text/html": [
       "<style>#sk-container-id-2 {color: black;background-color: white;}#sk-container-id-2 pre{padding: 0;}#sk-container-id-2 div.sk-toggleable {background-color: white;}#sk-container-id-2 label.sk-toggleable__label {cursor: pointer;display: block;width: 100%;margin-bottom: 0;padding: 0.3em;box-sizing: border-box;text-align: center;}#sk-container-id-2 label.sk-toggleable__label-arrow:before {content: \"▸\";float: left;margin-right: 0.25em;color: #696969;}#sk-container-id-2 label.sk-toggleable__label-arrow:hover:before {color: black;}#sk-container-id-2 div.sk-estimator:hover label.sk-toggleable__label-arrow:before {color: black;}#sk-container-id-2 div.sk-toggleable__content {max-height: 0;max-width: 0;overflow: hidden;text-align: left;background-color: #f0f8ff;}#sk-container-id-2 div.sk-toggleable__content pre {margin: 0.2em;color: black;border-radius: 0.25em;background-color: #f0f8ff;}#sk-container-id-2 input.sk-toggleable__control:checked~div.sk-toggleable__content {max-height: 200px;max-width: 100%;overflow: auto;}#sk-container-id-2 input.sk-toggleable__control:checked~label.sk-toggleable__label-arrow:before {content: \"▾\";}#sk-container-id-2 div.sk-estimator input.sk-toggleable__control:checked~label.sk-toggleable__label {background-color: #d4ebff;}#sk-container-id-2 div.sk-label input.sk-toggleable__control:checked~label.sk-toggleable__label {background-color: #d4ebff;}#sk-container-id-2 input.sk-hidden--visually {border: 0;clip: rect(1px 1px 1px 1px);clip: rect(1px, 1px, 1px, 1px);height: 1px;margin: -1px;overflow: hidden;padding: 0;position: absolute;width: 1px;}#sk-container-id-2 div.sk-estimator {font-family: monospace;background-color: #f0f8ff;border: 1px dotted black;border-radius: 0.25em;box-sizing: border-box;margin-bottom: 0.5em;}#sk-container-id-2 div.sk-estimator:hover {background-color: #d4ebff;}#sk-container-id-2 div.sk-parallel-item::after {content: \"\";width: 100%;border-bottom: 1px solid gray;flex-grow: 1;}#sk-container-id-2 div.sk-label:hover label.sk-toggleable__label {background-color: #d4ebff;}#sk-container-id-2 div.sk-serial::before {content: \"\";position: absolute;border-left: 1px solid gray;box-sizing: border-box;top: 0;bottom: 0;left: 50%;z-index: 0;}#sk-container-id-2 div.sk-serial {display: flex;flex-direction: column;align-items: center;background-color: white;padding-right: 0.2em;padding-left: 0.2em;position: relative;}#sk-container-id-2 div.sk-item {position: relative;z-index: 1;}#sk-container-id-2 div.sk-parallel {display: flex;align-items: stretch;justify-content: center;background-color: white;position: relative;}#sk-container-id-2 div.sk-item::before, #sk-container-id-2 div.sk-parallel-item::before {content: \"\";position: absolute;border-left: 1px solid gray;box-sizing: border-box;top: 0;bottom: 0;left: 50%;z-index: -1;}#sk-container-id-2 div.sk-parallel-item {display: flex;flex-direction: column;z-index: 1;position: relative;background-color: white;}#sk-container-id-2 div.sk-parallel-item:first-child::after {align-self: flex-end;width: 50%;}#sk-container-id-2 div.sk-parallel-item:last-child::after {align-self: flex-start;width: 50%;}#sk-container-id-2 div.sk-parallel-item:only-child::after {width: 0;}#sk-container-id-2 div.sk-dashed-wrapped {border: 1px dashed gray;margin: 0 0.4em 0.5em 0.4em;box-sizing: border-box;padding-bottom: 0.4em;background-color: white;}#sk-container-id-2 div.sk-label label {font-family: monospace;font-weight: bold;display: inline-block;line-height: 1.2em;}#sk-container-id-2 div.sk-label-container {text-align: center;}#sk-container-id-2 div.sk-container {/* jupyter's `normalize.less` sets `[hidden] { display: none; }` but bootstrap.min.css set `[hidden] { display: none !important; }` so we also need the `!important` here to be able to override the default hidden behavior on the sphinx rendered scikit-learn.org. See: https://github.com/scikit-learn/scikit-learn/issues/21755 */display: inline-block !important;position: relative;}#sk-container-id-2 div.sk-text-repr-fallback {display: none;}</style><div id=\"sk-container-id-2\" class=\"sk-top-container\"><div class=\"sk-text-repr-fallback\"><pre>AdaBoostClassifier()</pre><b>In a Jupyter environment, please rerun this cell to show the HTML representation or trust the notebook. <br />On GitHub, the HTML representation is unable to render, please try loading this page with nbviewer.org.</b></div><div class=\"sk-container\" hidden><div class=\"sk-item\"><div class=\"sk-estimator sk-toggleable\"><input class=\"sk-toggleable__control sk-hidden--visually\" id=\"sk-estimator-id-2\" type=\"checkbox\" checked><label for=\"sk-estimator-id-2\" class=\"sk-toggleable__label sk-toggleable__label-arrow\">AdaBoostClassifier</label><div class=\"sk-toggleable__content\"><pre>AdaBoostClassifier()</pre></div></div></div></div></div>"
      ],
      "text/plain": [
       "AdaBoostClassifier()"
      ]
     },
     "execution_count": 51,
     "metadata": {},
     "output_type": "execute_result"
    }
   ],
   "source": [
    "from sklearn.ensemble import AdaBoostClassifier\n",
    "ada = AdaBoostClassifier()\n",
    "ada.fit(X_train, y_train)"
   ]
  },
  {
   "cell_type": "code",
   "execution_count": 54,
   "id": "dab750af",
   "metadata": {},
   "outputs": [],
   "source": [
    "pred_ada = ada.predict(X_test)\n",
    "score = accuracy_score(y_test, pred_ada)"
   ]
  },
  {
   "cell_type": "code",
   "execution_count": 55,
   "id": "dd2d385c",
   "metadata": {},
   "outputs": [
    {
     "name": "stdout",
     "output_type": "stream",
     "text": [
      "0.8458333333333333\n"
     ]
    }
   ],
   "source": [
    "print(score)"
   ]
  },
  {
   "cell_type": "code",
   "execution_count": 57,
   "id": "3e27ebd5",
   "metadata": {},
   "outputs": [
    {
     "data": {
      "image/png": "[encoded data removed]",
      "text/plain": [
       "<Figure size 432x288 with 2 Axes>"
      ]
     },
     "metadata": {
      "needs_background": "light"
     },
     "output_type": "display_data"
    }
   ],
   "source": [
    "import seaborn as sns\n",
    "import matplotlib.pyplot as plt\n",
    "from sklearn.metrics import confusion_matrix\n",
    "cf_matrix = confusion_matrix(y_test,pred_ada)\n",
    "ax = sns.heatmap(cf_matrix, annot=True, cmap='BuGn',fmt='0.0f')\n",
    "ax.set_title('Seaborn Confusion Matrix with labels\\n\\n');\n",
    "ax.set_xlabel('\\nPredicted Values')\n",
    "ax.set_ylabel('Actual Values');\n",
    "plt.show()"
   ]
  },
  {
   "cell_type": "code",
   "execution_count": 58,
   "id": "e055a62a",
   "metadata": {},
   "outputs": [
    {
     "name": "stdout",
     "output_type": "stream",
     "text": [
      "              precision    recall  f1-score   support\n",
      "\n",
      "           0       0.84      0.87      0.86       251\n",
      "           1       0.85      0.82      0.83       229\n",
      "\n",
      "    accuracy                           0.85       480\n",
      "   macro avg       0.85      0.84      0.85       480\n",
      "weighted avg       0.85      0.85      0.85       480\n",
      "\n"
     ]
    }
   ],
   "source": [
    "print(classification_report(y_test, pred_ada))"
   ]
  },
  {
   "cell_type": "code",
   "execution_count": 61,
   "id": "46c6de5f",
   "metadata": {},
   "outputs": [],
   "source": [
    "pickle.dump(model, open(r'../model/xg_model.sav', 'wb'))"
   ]
  },
  {
   "cell_type": "markdown",
   "id": "333a0d87",
   "metadata": {},
   "source": [
    "## predictions"
   ]
  },
  {
   "cell_type": "code",
   "execution_count": null,
   "id": "3c4c96b8",
   "metadata": {},
   "outputs": [],
   "source": []
  },
  {
   "cell_type": "code",
   "execution_count": 76,
   "id": "e0ce0543",
   "metadata": {},
   "outputs": [],
   "source": [
    "import pickle\n",
    "import pandas as pd"
   ]
  },
  {
   "cell_type": "code",
   "execution_count": 77,
   "id": "a2b30189",
   "metadata": {},
   "outputs": [],
   "source": [
    "xg = pickle.load(open(r'../model/xg_model.sav', 'rb'))"
   ]
  },
  {
   "cell_type": "code",
   "execution_count": 78,
   "id": "2387f6be",
   "metadata": {},
   "outputs": [],
   "source": [
    "example = [\"Girl bully’s as well. I’ve 2 sons that were bullied in Jr High. Both were bullied by girls. My older was bullied because he had 4ft long brown hair and a baby face. Younger was bullied cuz he hung around the nerd crowd and was an easy target. I know what u mean though! Peace\",]"
   ]
  },
  {
   "cell_type": "code",
   "execution_count": 79,
   "id": "1b38e9eb",
   "metadata": {},
   "outputs": [],
   "source": [
    "cv_lab = pickle.load(open(r'../model/cv.pkl', 'rb'))"
   ]
  },
  {
   "cell_type": "code",
   "execution_count": 80,
   "id": "f79986e3",
   "metadata": {},
   "outputs": [],
   "source": [
    "enc = cv_lab.transform(example)"
   ]
  },
  {
   "cell_type": "code",
   "execution_count": 84,
   "id": "f95cb3ad",
   "metadata": {},
   "outputs": [],
   "source": [
    "p = xg.predict(enc)"
   ]
  },
  {
   "cell_type": "code",
   "execution_count": 85,
   "id": "32ce5c39",
   "metadata": {},
   "outputs": [
    {
     "data": {
      "text/plain": [
       "array([1])"
      ]
     },
     "execution_count": 85,
     "metadata": {},
     "output_type": "execute_result"
    }
   ],
   "source": [
    "p"
   ]
  },
  {
   "cell_type": "code",
   "execution_count": 86,
   "id": "06e7bb7f",
   "metadata": {},
   "outputs": [
    {
     "name": "stdout",
     "output_type": "stream",
     "text": [
      "Not Frusted\n"
     ]
    }
   ],
   "source": [
    "if p==0:\n",
    "    print(\"Frusted\")\n",
    "else:\n",
    "    print(\"Not Frusted\")"
   ]
  },
  {
   "cell_type": "code",
   "execution_count": 87,
   "id": "4056d792",
   "metadata": {},
   "outputs": [
    {
     "data": {
      "text/plain": [
       "<480x2500 sparse matrix of type '<class 'numpy.int64'>'\n",
       "\twith 6254 stored elements in Compressed Sparse Row format>"
      ]
     },
     "execution_count": 87,
     "metadata": {},
     "output_type": "execute_result"
    }
   ],
   "source": [
    "X_test"
   ]
  },
  {
   "cell_type": "code",
   "execution_count": null,
   "id": "d896222d",
   "metadata": {},
   "outputs": [],
   "source": []
  }
 ],
 "metadata": {
  "kernelspec": {
   "display_name": "Python 3",
   "language": "python",
   "name": "python3"
  },
  "language_info": {
   "codemirror_mode": {
    "name": "ipython",
    "version": 3
   },
   "file_extension": ".py",
   "mimetype": "text/x-python",
   "name": "python",
   "nbconvert_exporter": "python",
   "pygments_lexer": "ipython3",
   "version": "3.8.8"
  }
 },
 "nbformat": 4,
 "nbformat_minor": 5
}
